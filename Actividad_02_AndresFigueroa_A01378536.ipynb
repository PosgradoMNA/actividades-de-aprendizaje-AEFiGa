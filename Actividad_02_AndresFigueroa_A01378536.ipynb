{
 "cells": [
  {
   "cell_type": "markdown",
   "id": "8212fabf",
   "metadata": {},
   "source": [
    "# Python for Data Science (IBM)"
   ]
  },
  {
   "cell_type": "markdown",
   "id": "28a327d5",
   "metadata": {},
   "source": [
    "### Andrés Eduardo Figueroa García - A01378536\n",
    "\n",
    "## Índice\n",
    "\n",
    "\n",
    "4. [Module 4 - Working with Data in Python](#Module4)\n",
    "   1. [Reading Files with Open](#Module4_1)\n",
    "   2. [Writing Files with Open](#Module4_2)\n",
    "   3. [Loading Data with Pandas](#Module4_3)\n",
    "   4. [Working with and Saving Data with Pandas](#Module4_4)"
   ]
  },
  {
   "cell_type": "markdown",
   "id": "7cb88ade",
   "metadata": {},
   "source": [
    "<a id='Module4'></a>\n",
    "## Module 4 - Working with Data in Python"
   ]
  },
  {
   "cell_type": "markdown",
   "id": "4a359033",
   "metadata": {},
   "source": [
    "<a id='Module4_1'></a>\n",
    "### Reading Files with Open"
   ]
  },
  {
   "cell_type": "code",
   "execution_count": 1,
   "id": "52ff1cda",
   "metadata": {},
   "outputs": [
    {
     "name": "stdout",
     "output_type": "stream",
     "text": [
      "The file name is: sample1.txt\n",
      "The file mode is: r\n",
      "Now the file is closed: True\n"
     ]
    }
   ],
   "source": [
    "# Open syntax\n",
    "# File = open(\"/resources/data/Example2.txt\",\"w\")\n",
    "\n",
    "# Open modes include: r (reading), w (writing), a (appending), x (create)\n",
    "\n",
    "# File.name() -> Obtains the attibute of the file\n",
    "# File.mode() -> Obtains the mode in which the file is running\n",
    "# File.close() -> Closes the file\n",
    "\n",
    "File1 = open(\"sample1.txt\", \"r\")\n",
    "print(\"The file name is: \" + str(File1.name))\n",
    "print(\"The file mode is: \" + str(File1.mode))\n",
    "File1.close()\n",
    "print(\"Now the file is closed: \" + str(File1.closed))"
   ]
  },
  {
   "cell_type": "code",
   "execution_count": 2,
   "id": "20f1ca7b",
   "metadata": {},
   "outputs": [
    {
     "name": "stdout",
     "output_type": "stream",
     "text": [
      "Utilitatis causa amicitia est quaesita.\n",
      "Lorem ipsum dolor sit amet, consectetur adipiscing elit. Collatio igitur ista te nihil iuvat. Honesta oratio, Socratica, Platonis etiam. Primum in nostrane potestate est, quid meminerimus? Duo Reges: constructio interrete. Quid, si etiam iucunda memoria est praeteritorum malorum? Si quidem, inquit, tollerem, sed relinquo. An nisi populari fama?\n",
      "\n",
      "Quamquam id quidem licebit iis existimare, qui legerint. Summum a vobis bonum voluptas dicitur. At hoc in eo M. Refert tamen, quo modo. Quid sequatur, quid repugnet, vident. Iam id ipsum absurdum, maximum malum neglegi.\n",
      "\n",
      "True\n",
      "Utilitatis causa amicitia est quaesita.\n",
      "Lorem ipsum dolor sit amet, consectetur adipiscing elit. Collatio igitur ista te nihil iuvat. Honesta oratio, Socratica, Platonis etiam. Primum in nostrane potestate est, quid meminerimus? Duo Reges: constructio interrete. Quid, si etiam iucunda memoria est praeteritorum malorum? Si quidem, inquit, tollerem, sed relinquo. An nisi populari fama?\n",
      "\n",
      "Quamquam id quidem licebit iis existimare, qui legerint. Summum a vobis bonum voluptas dicitur. At hoc in eo M. Refert tamen, quo modo. Quid sequatur, quid repugnet, vident. Iam id ipsum absurdum, maximum malum neglegi.\n"
     ]
    }
   ],
   "source": [
    "# Using the with statement closes the file automatically\n",
    "with open(\"sample1.txt\", \"r\") as File2:\n",
    "    file_stuff = File2.read()\n",
    "    print(file_stuff)\n",
    "    print(\"\")\n",
    "    \n",
    "print(File2.closed)\n",
    "print(file_stuff)\n"
   ]
  },
  {
   "cell_type": "code",
   "execution_count": 3,
   "id": "f4fe79d3",
   "metadata": {},
   "outputs": [
    {
     "name": "stdout",
     "output_type": "stream",
     "text": [
      "Utilitatis causa amicitia est quaesita.\n",
      "\n",
      "Lorem ipsum dolor sit amet, consectetur adipiscing elit. Collatio igitur ista te nihil iuvat. Honesta oratio, Socratica, Platonis etiam. Primum in nostrane potestate est, quid meminerimus? Duo Reges: constructio interrete. Quid, si etiam iucunda memoria est praeteritorum malorum? Si quidem, inquit, tollerem, sed relinquo. An nisi populari fama?\n",
      "\n",
      "\n",
      "\n",
      "Quamquam id quidem licebit iis existimare, qui legerint. Summum a vobis bonum voluptas dicitur. At hoc in eo M. Refert tamen, quo modo. Quid sequatur, quid repugnet, vident. Iam id ipsum absurdum, maximum malum neglegi.\n"
     ]
    }
   ],
   "source": [
    "# Using the with statement closes the file automatically\n",
    "with open(\"sample1.txt\", \"r\") as File3:\n",
    "    for line in File3.readlines():\n",
    "        print(line)\n",
    "    "
   ]
  },
  {
   "cell_type": "code",
   "execution_count": 4,
   "id": "62c4222b",
   "metadata": {},
   "outputs": [
    {
     "name": "stdout",
     "output_type": "stream",
     "text": [
      "Utilitatis causa ami\n",
      "citia est quaesita.\n",
      "\n",
      "Lorem ipsum dolor si\n",
      "t amet, consectetur \n",
      "adipiscing elit. Col\n",
      "latio igitur ista te\n",
      " nihil iuvat. Honest\n",
      "a oratio, Socratica,\n",
      " Platonis etiam. Pri\n",
      "mum in nostrane pote\n"
     ]
    }
   ],
   "source": [
    "# Using the with statement closes the file automatically\n",
    "with open(\"sample1.txt\", \"r\") as File4:\n",
    "    for i in range(10):\n",
    "        print(File4.readline(20))\n",
    "    "
   ]
  },
  {
   "cell_type": "markdown",
   "id": "e83e3d4f",
   "metadata": {},
   "source": [
    "<a id='Module4_2'></a>\n",
    "### Writing Files with Open"
   ]
  },
  {
   "cell_type": "code",
   "execution_count": 5,
   "id": "bb717c5d",
   "metadata": {},
   "outputs": [
    {
     "name": "stdout",
     "output_type": "stream",
     "text": [
      "Now the file is closed: True\n",
      "This is a test\n"
     ]
    }
   ],
   "source": [
    "File1 = open(\"sample2.txt\", \"w\")\n",
    "File1.write(\"This is a test\")\n",
    "File1.close()\n",
    "print(\"Now the file is closed: \" + str(File1.closed))\n",
    "\n",
    "with open(\"sample2.txt\", \"r\") as File2:\n",
    "    file_stuff = File2.read()\n",
    "    print(file_stuff)"
   ]
  },
  {
   "cell_type": "code",
   "execution_count": 6,
   "id": "6d2469d9",
   "metadata": {},
   "outputs": [
    {
     "name": "stdout",
     "output_type": "stream",
     "text": [
      "Have some stuff written\n",
      "Some other random text\n"
     ]
    }
   ],
   "source": [
    "with open(\"sample2.txt\", \"w\") as File1:\n",
    "    File1.write(\"Some other random text\")\n",
    "    print(\"Have some stuff written\")\n",
    "\n",
    "with open(\"sample2.txt\", \"r\") as File2:\n",
    "    file_stuff = File2.read()\n",
    "    print(file_stuff)"
   ]
  },
  {
   "cell_type": "code",
   "execution_count": 7,
   "id": "71f13277",
   "metadata": {},
   "outputs": [
    {
     "name": "stdout",
     "output_type": "stream",
     "text": [
      "Have some stuff written\n",
      "Some other random text A\n",
      "Some other random text B\n",
      "Some other random text C\n",
      "\n"
     ]
    }
   ],
   "source": [
    "# Jump line\n",
    "with open(\"sample2.txt\", \"w\") as File1:\n",
    "    File1.write(\"Some other random text A\\n\")\n",
    "    File1.write(\"Some other random text B\\n\")\n",
    "    File1.write(\"Some other random text C\\n\")\n",
    "    print(\"Have some stuff written\")\n",
    "\n",
    "with open(\"sample2.txt\", \"r\") as File2:\n",
    "    file_stuff = File2.read()\n",
    "    print(file_stuff)"
   ]
  },
  {
   "cell_type": "code",
   "execution_count": 8,
   "id": "07d5ab3e",
   "metadata": {},
   "outputs": [
    {
     "name": "stdout",
     "output_type": "stream",
     "text": [
      "Have some stuff written\n",
      "Some other random text A\n",
      "Some other random text B\n",
      "Some other random text C\n",
      "Some other random text D\n",
      "Some other random text E\n",
      "Some other random text F\n",
      "\n"
     ]
    }
   ],
   "source": [
    "# Append to existing file\n",
    "with open(\"sample2.txt\", \"a\") as File1:\n",
    "    File1.write(\"Some other random text D\\n\")\n",
    "    File1.write(\"Some other random text E\\n\")\n",
    "    File1.write(\"Some other random text F\\n\")\n",
    "    print(\"Have some stuff written\")\n",
    "\n",
    "with open(\"sample2.txt\", \"r\") as File2:\n",
    "    file_stuff = File2.read()\n",
    "    print(file_stuff)"
   ]
  },
  {
   "cell_type": "code",
   "execution_count": 9,
   "id": "761aeee0",
   "metadata": {},
   "outputs": [],
   "source": [
    "# Copying a file to another\n",
    "with open(\"sample2.txt\", \"r\") as ReadFile:\n",
    "    ReadText = ReadFile.read()\n",
    "    with open(\"sample3.txt\", \"w\") as WriteFile:\n",
    "        WriteFile.write(ReadText)"
   ]
  },
  {
   "cell_type": "markdown",
   "id": "72e57ba4",
   "metadata": {},
   "source": [
    "<a id='Module4_3'></a>\n",
    "### Loading Data with Pandas"
   ]
  },
  {
   "cell_type": "code",
   "execution_count": 10,
   "id": "b2237479",
   "metadata": {},
   "outputs": [
    {
     "name": "stdout",
     "output_type": "stream",
     "text": [
      "  Month  Average  2005  2006  2007  2008  2009  2010  2011  2012  2013  2014  \\\n",
      "0   May      0.1     0     0     1     1     0     0     0     2     0     0   \n",
      "1   Jun      0.5     2     1     1     0     0     1     1     2     2     0   \n",
      "2   Jul      0.7     5     1     1     2     0     1     3     0     2     2   \n",
      "3   Aug      2.3     6     3     2     4     4     4     7     8     2     2   \n",
      "4   Sep      3.5     6     4     7     4     2     8     5     2     5     2   \n",
      "5   Oct      2.0     8     0     1     3     2     5     1     5     2     3   \n",
      "6   Nov      0.5     3     0     0     1     1     0     1     0     1     0   \n",
      "7   Dec      0.0     1     0     1     0     0     0     0     0     0     0   \n",
      "\n",
      "   2015  \n",
      "0     0  \n",
      "1     1  \n",
      "2     1  \n",
      "3     3  \n",
      "4     5  \n",
      "5     0  \n",
      "6     1  \n",
      "7     1  \n"
     ]
    }
   ],
   "source": [
    "import pandas as pd\n",
    "\n",
    "csv_path = \"hurricanes.csv\"\n",
    "df = pd.read_csv(csv_path)\n",
    "\n",
    "# Show all the DataFrame\n",
    "print(df)"
   ]
  },
  {
   "cell_type": "code",
   "execution_count": 11,
   "id": "2ccaffa4",
   "metadata": {},
   "outputs": [
    {
     "name": "stdout",
     "output_type": "stream",
     "text": [
      "  Month  Average  2005  2006  2007  2008  2009  2010  2011  2012  2013  2014  \\\n",
      "0   May      0.1     0     0     1     1     0     0     0     2     0     0   \n",
      "1   Jun      0.5     2     1     1     0     0     1     1     2     2     0   \n",
      "2   Jul      0.7     5     1     1     2     0     1     3     0     2     2   \n",
      "3   Aug      2.3     6     3     2     4     4     4     7     8     2     2   \n",
      "4   Sep      3.5     6     4     7     4     2     8     5     2     5     2   \n",
      "\n",
      "   2015  \n",
      "0     0  \n",
      "1     1  \n",
      "2     1  \n",
      "3     3  \n",
      "4     5  \n"
     ]
    }
   ],
   "source": [
    "# Show first 5 elemenst of the DataFrame\n",
    "print(df.head())"
   ]
  },
  {
   "cell_type": "code",
   "execution_count": 12,
   "id": "554f7088",
   "metadata": {},
   "outputs": [
    {
     "name": "stdout",
     "output_type": "stream",
     "text": [
      "        Average      2005      2006      2007      2008      2009      2010  \\\n",
      "count  8.000000  8.000000  8.000000  8.000000  8.000000  8.000000  8.000000   \n",
      "mean   1.200000  3.875000  1.125000  1.750000  1.875000  1.125000  2.375000   \n",
      "std    1.254705  2.799872  1.552648  2.187628  1.642081  1.457738  2.973094   \n",
      "min    0.000000  0.000000  0.000000  0.000000  0.000000  0.000000  0.000000   \n",
      "25%    0.400000  1.750000  0.000000  1.000000  0.750000  0.000000  0.000000   \n",
      "50%    0.600000  4.000000  0.500000  1.000000  1.500000  0.500000  1.000000   \n",
      "75%    2.075000  6.000000  1.500000  1.250000  3.250000  2.000000  4.250000   \n",
      "max    3.500000  8.000000  4.000000  7.000000  4.000000  4.000000  8.000000   \n",
      "\n",
      "          2011      2012      2013      2014      2015  \n",
      "count  8.00000  8.000000  8.000000  8.000000  8.000000  \n",
      "mean   2.25000  2.375000  1.750000  1.125000  1.500000  \n",
      "std    2.54951  2.825269  1.581139  1.246423  1.690309  \n",
      "min    0.00000  0.000000  0.000000  0.000000  0.000000  \n",
      "25%    0.75000  0.000000  0.750000  0.000000  0.750000  \n",
      "50%    1.00000  2.000000  2.000000  1.000000  1.000000  \n",
      "75%    3.50000  2.750000  2.000000  2.000000  1.500000  \n",
      "max    7.00000  8.000000  5.000000  3.000000  5.000000  \n"
     ]
    }
   ],
   "source": [
    "# Show basic statistitcal dat afor each column DataFrame\n",
    "print(df.describe())"
   ]
  },
  {
   "cell_type": "code",
   "execution_count": 13,
   "id": "8109eee7",
   "metadata": {},
   "outputs": [
    {
     "name": "stdout",
     "output_type": "stream",
     "text": [
      "                       Album  Released    Length\n",
      "0                   Thriller      1982  00:42:19\n",
      "1              Back in Black      1980  00:42:11\n",
      "2  The Dark Side of The Moon      1973  00:42:49\n",
      "3              The Bodyguard      1992  00:57:44\n",
      "4            Bat Out of Hell      1977  00:46:33\n"
     ]
    }
   ],
   "source": [
    "# Create a DF from a dictionary\n",
    "songs_dict = {\"Album\":    [\"Thriller\", \"Back in Black\", \"The Dark Side of The Moon\", \"The Bodyguard\", \"Bat Out of Hell\"], \n",
    "               \"Released\": [1982, 1980, 1973, 1992, 1977],\n",
    "               \"Length\":   [\"00:42:19\", \"00:42:11\", \"00:42:49\", \"00:57:44\", \"00:46:33\"]}\n",
    "\n",
    "songs_frame = pd.DataFrame(songs_dict)\n",
    "\n",
    "print(songs_frame)"
   ]
  },
  {
   "cell_type": "code",
   "execution_count": 14,
   "id": "c22f54bf",
   "metadata": {},
   "outputs": [
    {
     "name": "stdout",
     "output_type": "stream",
     "text": [
      "                       Album    Length\n",
      "0                   Thriller  00:42:19\n",
      "1              Back in Black  00:42:11\n",
      "2  The Dark Side of The Moon  00:42:49\n",
      "3              The Bodyguard  00:57:44\n",
      "4            Bat Out of Hell  00:46:33\n"
     ]
    }
   ],
   "source": [
    "# Show multiple columns from a previous DF as a new DF\n",
    "songs_frame_red = songs_frame[[\"Album\", \"Length\"]]\n",
    "print(songs_frame_red)"
   ]
  },
  {
   "cell_type": "code",
   "execution_count": 15,
   "id": "eed4eef0",
   "metadata": {},
   "outputs": [
    {
     "name": "stdout",
     "output_type": "stream",
     "text": [
      "Thriller\n",
      "00:42:19\n",
      "The Bodyguard\n"
     ]
    }
   ],
   "source": [
    "# Access by element position\n",
    "print(songs_frame_red.iat[0,0]) # First row, First column\n",
    "print(songs_frame_red.iat[0,1]) # First row, Second column\n",
    "print(songs_frame_red.at[3,\"Album\"]) # Fourth row, 'Album' column"
   ]
  },
  {
   "cell_type": "code",
   "execution_count": 16,
   "id": "315778ab",
   "metadata": {},
   "outputs": [
    {
     "name": "stdout",
     "output_type": "stream",
     "text": [
      "           Album  Released\n",
      "0       Thriller      1982\n",
      "1  Back in Black      1980\n"
     ]
    }
   ],
   "source": [
    "# Resume DF by range of rows and columns\n",
    "songs_frame_comp = songs_frame.iloc[0:2,0:2]\n",
    "print(songs_frame_comp)"
   ]
  },
  {
   "cell_type": "markdown",
   "id": "68128446",
   "metadata": {},
   "source": [
    "<a id='Module4_4'></a>\n",
    "### Working with and Saving Data with Pandas"
   ]
  },
  {
   "cell_type": "code",
   "execution_count": 17,
   "id": "194be224",
   "metadata": {},
   "outputs": [
    {
     "name": "stdout",
     "output_type": "stream",
     "text": [
      "  Month  Average  2005  2006  2007  2008  2009  2010  2011  2012  2013  2014  \\\n",
      "0   May      0.1     0     0     1     1     0     0     0     2     0     0   \n",
      "1   Jun      0.5     2     1     1     0     0     1     1     2     2     0   \n",
      "2   Jul      0.7     5     1     1     2     0     1     3     0     2     2   \n",
      "3   Aug      2.3     6     3     2     4     4     4     7     8     2     2   \n",
      "4   Sep      3.5     6     4     7     4     2     8     5     2     5     2   \n",
      "5   Oct      2.0     8     0     1     3     2     5     1     5     2     3   \n",
      "6   Nov      0.5     3     0     0     1     1     0     1     0     1     0   \n",
      "7   Dec      0.0     1     0     1     0     0     0     0     0     0     0   \n",
      "\n",
      "   2015  \n",
      "0     0  \n",
      "1     1  \n",
      "2     1  \n",
      "3     3  \n",
      "4     5  \n",
      "5     0  \n",
      "6     1  \n",
      "7     1  \n",
      "0    1\n",
      "1    0\n",
      "2    2\n",
      "3    4\n",
      "4    4\n",
      "5    3\n",
      "6    1\n",
      "7    0\n",
      "Name: 2008, dtype: int64\n",
      " \n",
      "[1 0 2 4 3]\n"
     ]
    }
   ],
   "source": [
    "import pandas as pd\n",
    "\n",
    "csv_path = \"hurricanes.csv\"\n",
    "df = pd.read_csv(csv_path)\n",
    "\n",
    "# Show all the DataFrame\n",
    "print(df)\n",
    "\n",
    "print(df[\"2008\"])\n",
    "print(\" \")\n",
    "print(df[\"2008\"].unique())"
   ]
  },
  {
   "cell_type": "code",
   "execution_count": 18,
   "id": "304abae0",
   "metadata": {},
   "outputs": [
    {
     "name": "stdout",
     "output_type": "stream",
     "text": [
      "0     True\n",
      "1    False\n",
      "2    False\n",
      "3     True\n",
      "4    False\n",
      "Name: Released, dtype: bool\n",
      " \n",
      "           Album  Released    Length\n",
      "0       Thriller      1982  00:42:19\n",
      "3  The Bodyguard      1992  00:57:44\n"
     ]
    }
   ],
   "source": [
    "# Filter data using boolean operators\n",
    "songs_dict = {\"Album\":    [\"Thriller\", \"Back in Black\", \"The Dark Side of The Moon\", \"The Bodyguard\", \"Bat Out of Hell\"], \n",
    "               \"Released\": [1982, 1980, 1973, 1992, 1977],\n",
    "               \"Length\":   [\"00:42:19\", \"00:42:11\", \"00:42:49\", \"00:57:44\", \"00:46:33\"]}\n",
    "\n",
    "songs_frame = pd.DataFrame(songs_dict)\n",
    "\n",
    "print(songs_frame[\"Released\"] >= 1982) # Positons by boolean values\n",
    "print(\" \")\n",
    "print(songs_frame[songs_frame[\"Released\"] >= 1982]) # New DF "
   ]
  },
  {
   "cell_type": "code",
   "execution_count": 19,
   "id": "6b5b90ad",
   "metadata": {},
   "outputs": [],
   "source": [
    "# Saving into CSV\n",
    "songs_frame.to_csv(\"Songs_DF.csv\")"
   ]
  }
 ],
 "metadata": {
  "kernelspec": {
   "display_name": "Python 3",
   "language": "python",
   "name": "python3"
  },
  "language_info": {
   "codemirror_mode": {
    "name": "ipython",
    "version": 3
   },
   "file_extension": ".py",
   "mimetype": "text/x-python",
   "name": "python",
   "nbconvert_exporter": "python",
   "pygments_lexer": "ipython3",
   "version": "3.8.8"
  }
 },
 "nbformat": 4,
 "nbformat_minor": 5
}
