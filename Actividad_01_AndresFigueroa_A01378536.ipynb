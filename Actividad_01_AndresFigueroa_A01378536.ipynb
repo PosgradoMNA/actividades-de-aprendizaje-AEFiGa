{
 "cells": [
  {
   "cell_type": "markdown",
   "id": "8212fabf",
   "metadata": {},
   "source": [
    "# Python for Data Science (IBM)"
   ]
  },
  {
   "cell_type": "markdown",
   "id": "28a327d5",
   "metadata": {},
   "source": [
    "### Andrés Eduardo Figueroa García - A01378536\n",
    "\n",
    "## Índice\n",
    "\n",
    "1. [Module 1 - Python Basics](#Module1)\n",
    "   1. [Your First Program](#Module1_1)\n",
    "   2. [Types](#Module1_2)\n",
    "   3. [Expresions and Variables](#Module1_3)\n",
    "   4. [String Operations](#Module1_4)\n",
    "2. [Module 2 - Python Data Structures](#Module2)\n",
    "   1. [Lists and Tuples](#Module2_1)\n",
    "   2. [Sets](#Module2_2)\n",
    "   3. [Dictionaries](#Module2_3)\n",
    "3. [Module 3 - Python Programming Fundamentals](#Module3)\n",
    "   1. [Conditions and Branching](#Module3_1)\n",
    "   2. [Loops](#Module3_2)\n",
    "   3. [Functions](#Module3_3)\n",
    "   4. [Objects and Classes](#Module3_4)\n",
    "4. [Module 4 - Working with Data in Python](#Module4)\n",
    "   1. [Reading Files with Open](#Module4_1)\n",
    "   2. [Writing Files with Open](#Module4_2)\n",
    "   3. [Loading Data with Pandas](#Module4_3)\n",
    "   4. [Working with and Saving Data with Pandas](#Module4_4)\n",
    "5. [Module 5 - Working with Numpy Arrays & Simple APIs](#Module5)\n",
    "   1. [Numpy 1D Arrays](#Module5_1)\n",
    "   2. [Numpy 2D Arrays](#Module5_2)\n",
    "   3. [Simple APIs - Part 1](#Module5_3)\n",
    "   4. [Simple APIs - Part 2](#Module5_4)"
   ]
  },
  {
   "cell_type": "markdown",
   "id": "2ae96ed5",
   "metadata": {},
   "source": [
    "<a id='Module1'></a>\n",
    "## Module 1 - Python Basics"
   ]
  },
  {
   "cell_type": "markdown",
   "id": "6b9c2ab2",
   "metadata": {},
   "source": [
    "<a id='Module1_1'></a>\n",
    "### Your First Program"
   ]
  },
  {
   "cell_type": "code",
   "execution_count": 1,
   "id": "c71feb60",
   "metadata": {},
   "outputs": [
    {
     "name": "stdout",
     "output_type": "stream",
     "text": [
      "Hello Python 101\n"
     ]
    }
   ],
   "source": [
    "# Print 'Hello Python 101'\n",
    "print(\"Hello Python 101\")"
   ]
  },
  {
   "cell_type": "code",
   "execution_count": 2,
   "id": "b123ca54",
   "metadata": {},
   "outputs": [
    {
     "name": "stdout",
     "output_type": "stream",
     "text": [
      "Hello\n",
      "World!\n"
     ]
    }
   ],
   "source": [
    "print(\"Hello\\nWorld!\")\n",
    "# print('Hello World!')"
   ]
  },
  {
   "cell_type": "markdown",
   "id": "9921d451",
   "metadata": {},
   "source": [
    "<a id='Module1_2'></a>\n",
    "### Types"
   ]
  },
  {
   "cell_type": "code",
   "execution_count": 3,
   "id": "fd12e14d",
   "metadata": {},
   "outputs": [
    {
     "name": "stdout",
     "output_type": "stream",
     "text": [
      "<class 'int'>\n"
     ]
    }
   ],
   "source": [
    "# int\n",
    "print(type(11))"
   ]
  },
  {
   "cell_type": "code",
   "execution_count": 4,
   "id": "8beda0fe",
   "metadata": {},
   "outputs": [
    {
     "name": "stdout",
     "output_type": "stream",
     "text": [
      "<class 'float'>\n"
     ]
    }
   ],
   "source": [
    "# float\n",
    "print(type(21.213))"
   ]
  },
  {
   "cell_type": "code",
   "execution_count": 5,
   "id": "419a05be",
   "metadata": {},
   "outputs": [
    {
     "name": "stdout",
     "output_type": "stream",
     "text": [
      "<class 'str'>\n"
     ]
    }
   ],
   "source": [
    "# str\n",
    "print(type(\"Hellos Python 101\"))"
   ]
  },
  {
   "cell_type": "code",
   "execution_count": 6,
   "id": "252e87b6",
   "metadata": {},
   "outputs": [
    {
     "data": {
      "text/plain": [
       "True"
      ]
     },
     "execution_count": 6,
     "metadata": {},
     "output_type": "execute_result"
    }
   ],
   "source": [
    "# Enter the code to convert the number 1 to a Boolean.\n",
    "bool(1)"
   ]
  },
  {
   "cell_type": "markdown",
   "id": "cc8b232e",
   "metadata": {},
   "source": [
    "<a id='Module1_3'></a>\n",
    "### Expresions and Variables"
   ]
  },
  {
   "cell_type": "code",
   "execution_count": 7,
   "id": "0b635274",
   "metadata": {},
   "outputs": [
    {
     "name": "stdout",
     "output_type": "stream",
     "text": [
      "6\n"
     ]
    }
   ],
   "source": [
    "# Operations: \n",
    "# Addition\n",
    "print(2 + 4)"
   ]
  },
  {
   "cell_type": "code",
   "execution_count": 8,
   "id": "5f4aeb71",
   "metadata": {},
   "outputs": [
    {
     "name": "stdout",
     "output_type": "stream",
     "text": [
      "-1\n"
     ]
    }
   ],
   "source": [
    "# Substraction\n",
    "print(6 - 7)"
   ]
  },
  {
   "cell_type": "code",
   "execution_count": 9,
   "id": "d40e32db",
   "metadata": {},
   "outputs": [
    {
     "name": "stdout",
     "output_type": "stream",
     "text": [
      "18\n"
     ]
    }
   ],
   "source": [
    "# Multiplications\n",
    "print(3 * 6)"
   ]
  },
  {
   "cell_type": "code",
   "execution_count": 10,
   "id": "ba855c07",
   "metadata": {},
   "outputs": [
    {
     "name": "stdout",
     "output_type": "stream",
     "text": [
      "2.3333333333333335\n"
     ]
    }
   ],
   "source": [
    "# Division\n",
    "print(7 / 3)"
   ]
  },
  {
   "cell_type": "code",
   "execution_count": 11,
   "id": "626041e6",
   "metadata": {},
   "outputs": [
    {
     "name": "stdout",
     "output_type": "stream",
     "text": [
      "2\n"
     ]
    }
   ],
   "source": [
    "# Integer division\n",
    "print(7 // 3)"
   ]
  },
  {
   "cell_type": "code",
   "execution_count": 12,
   "id": "cca10628",
   "metadata": {},
   "outputs": [
    {
     "name": "stdout",
     "output_type": "stream",
     "text": [
      "1\n"
     ]
    }
   ],
   "source": [
    "# Module\n",
    "print(7 % 3)"
   ]
  },
  {
   "cell_type": "code",
   "execution_count": 13,
   "id": "14f35af9",
   "metadata": {},
   "outputs": [
    {
     "name": "stdout",
     "output_type": "stream",
     "text": [
      "10\n"
     ]
    }
   ],
   "source": [
    "# Variables\n",
    "my_var = 10\n",
    "print(my_var)"
   ]
  },
  {
   "cell_type": "code",
   "execution_count": 14,
   "id": "89f9a167",
   "metadata": {},
   "outputs": [
    {
     "name": "stdout",
     "output_type": "stream",
     "text": [
      "10\n",
      "3\n",
      "1\n"
     ]
    }
   ],
   "source": [
    "x = 10\n",
    "print(x)\n",
    "y = x // 3\n",
    "print(y)\n",
    "x = x % 3\n",
    "print(x)"
   ]
  },
  {
   "cell_type": "markdown",
   "id": "7638d233",
   "metadata": {},
   "source": [
    "<a id='Module1_4'></a>\n",
    "### String Operations"
   ]
  },
  {
   "cell_type": "code",
   "execution_count": 15,
   "id": "4f0db636",
   "metadata": {},
   "outputs": [
    {
     "name": "stdout",
     "output_type": "stream",
     "text": [
      "Hello Python 101\n",
      "Hello Python 101\n"
     ]
    }
   ],
   "source": [
    "# Definition\n",
    "my_string = \"Hello Python 101\"\n",
    "print(my_string)\n",
    "my_string = 'Hello Python 101'\n",
    "print(my_string)"
   ]
  },
  {
   "cell_type": "code",
   "execution_count": 16,
   "id": "5c5d25b9",
   "metadata": {},
   "outputs": [
    {
     "name": "stdout",
     "output_type": "stream",
     "text": [
      "!#$%&/()=?¡\"'\n"
     ]
    }
   ],
   "source": [
    "# Special characters (Use \\ as scape sequences)\n",
    "my_string = \"!#$%&/()=?¡\\\"\\'\"\n",
    "print(my_string)"
   ]
  },
  {
   "cell_type": "code",
   "execution_count": 17,
   "id": "c7a04950",
   "metadata": {},
   "outputs": [
    {
     "name": "stdout",
     "output_type": "stream",
     "text": [
      "M\n",
      "g\n",
      "M\n",
      "g\n"
     ]
    }
   ],
   "source": [
    "# Use of index\n",
    "my_string = \"MyString\"\n",
    "# Positive\n",
    "print(my_string[0])\n",
    "print(my_string[7])\n",
    "# Negative\n",
    "print(my_string[-8])\n",
    "print(my_string[-1])"
   ]
  },
  {
   "cell_type": "code",
   "execution_count": 18,
   "id": "7e0291d1",
   "metadata": {},
   "outputs": [
    {
     "name": "stdout",
     "output_type": "stream",
     "text": [
      "My String\n"
     ]
    }
   ],
   "source": [
    "# Concatenate\n",
    "my_string_1 = \"My \"\n",
    "my_string_2 = \"String\"\n",
    "print(my_string_1 + my_string_2)"
   ]
  },
  {
   "cell_type": "code",
   "execution_count": 19,
   "id": "b75d81fe",
   "metadata": {},
   "outputs": [
    {
     "name": "stdout",
     "output_type": "stream",
     "text": [
      "Michael\n",
      "Jackson\n",
      "Michael Jackson\n",
      "Michael\tJackson\n",
      "Michael\t\tJackson\n"
     ]
    }
   ],
   "source": [
    "# Scape sequences\n",
    "# Jump line\n",
    "my_string = \"Michael\\nJackson\"\n",
    "print(my_string)\n",
    "# Tab\n",
    "my_string = \"Michael Jackson\"\n",
    "print(my_string)\n",
    "my_string = \"Michael\\tJackson\"\n",
    "print(my_string)\n",
    "my_string = \"Michael\\t\\tJackson\"\n",
    "print(my_string)"
   ]
  },
  {
   "cell_type": "code",
   "execution_count": 20,
   "id": "726f0b45",
   "metadata": {},
   "outputs": [
    {
     "name": "stdout",
     "output_type": "stream",
     "text": [
      "Michael Jackson is the best\n",
      "Janet Jackson is the best\n"
     ]
    }
   ],
   "source": [
    "# Methods\n",
    "# Replace\n",
    "A = \"Michael Jackson is the best\"\n",
    "B = A.replace('Michael','Janet')\n",
    "print(A)\n",
    "print(B)"
   ]
  },
  {
   "cell_type": "code",
   "execution_count": 21,
   "id": "20d0ab21",
   "metadata": {},
   "outputs": [
    {
     "name": "stdout",
     "output_type": "stream",
     "text": [
      "5\n"
     ]
    }
   ],
   "source": [
    "# Find\n",
    "A = \"Michael Jackson is the best\"\n",
    "print(A.find('el'))"
   ]
  },
  {
   "cell_type": "code",
   "execution_count": 22,
   "id": "9a76f648",
   "metadata": {},
   "outputs": [
    {
     "name": "stdout",
     "output_type": "stream",
     "text": [
      "0246\n"
     ]
    }
   ],
   "source": [
    "Numbers = \"0123456\"\n",
    "print(Numbers[::2])"
   ]
  },
  {
   "cell_type": "markdown",
   "id": "90356c3d",
   "metadata": {},
   "source": [
    "<a id='Module2'></a>\n",
    "## Module 2 - Python Data Structures"
   ]
  },
  {
   "cell_type": "markdown",
   "id": "bdff882d",
   "metadata": {},
   "source": [
    "<a id='Module2_1'></a>\n",
    "### Lists and Tuples"
   ]
  },
  {
   "cell_type": "code",
   "execution_count": 23,
   "id": "cdb34d5a",
   "metadata": {},
   "outputs": [
    {
     "name": "stdout",
     "output_type": "stream",
     "text": [
      "<class 'tuple'>\n"
     ]
    }
   ],
   "source": [
    "# Tuples - UnMutable\n",
    "# Ordered sequence\n",
    "Ratings = (10,9,6,5,19,8,9,6,2)\n",
    "print(type(Ratings))"
   ]
  },
  {
   "cell_type": "code",
   "execution_count": 24,
   "id": "4491aa5e",
   "metadata": {},
   "outputs": [
    {
     "name": "stdout",
     "output_type": "stream",
     "text": [
      "9\n"
     ]
    }
   ],
   "source": [
    "# length\n",
    "print(len(Ratings))"
   ]
  },
  {
   "cell_type": "code",
   "execution_count": 25,
   "id": "5576509d",
   "metadata": {},
   "outputs": [
    {
     "name": "stdout",
     "output_type": "stream",
     "text": [
      "(1, (3, 5), 'another', 4)\n",
      "1\n",
      "(3, 5)\n",
      "3\n",
      "5\n"
     ]
    }
   ],
   "source": [
    "# Nesting\n",
    "my_tuple = (1,(3,5), \"another\", 4)\n",
    "print(my_tuple)\n",
    "print(my_tuple[0])\n",
    "print(my_tuple[1])\n",
    "print(my_tuple[1][0])\n",
    "print(my_tuple[1][1])"
   ]
  },
  {
   "cell_type": "code",
   "execution_count": 26,
   "id": "3ae6c13d",
   "metadata": {},
   "outputs": [
    {
     "name": "stdout",
     "output_type": "stream",
     "text": [
      "<class 'list'>\n",
      "[1, (3, 5), 'another', 4]\n",
      "1\n",
      "(3, 5)\n",
      "3\n",
      "5\n"
     ]
    }
   ],
   "source": [
    "# Lists - Mutable\n",
    "my_list = [1,(3,5), \"another\", 4]\n",
    "print(type(my_list))\n",
    "print(my_list)\n",
    "print(my_list[0])\n",
    "print(my_list[1])\n",
    "print(my_list[1][0])\n",
    "print(my_list[1][1])"
   ]
  },
  {
   "cell_type": "code",
   "execution_count": 27,
   "id": "749c7010",
   "metadata": {},
   "outputs": [
    {
     "name": "stdout",
     "output_type": "stream",
     "text": [
      "[1, 2, 3, 4, 5]\n"
     ]
    }
   ],
   "source": [
    "# Methods\n",
    "my_list = [1,2,3,4,5]\n",
    "print(my_list)"
   ]
  },
  {
   "cell_type": "code",
   "execution_count": 28,
   "id": "338f773b",
   "metadata": {},
   "outputs": [
    {
     "name": "stdout",
     "output_type": "stream",
     "text": [
      "[1, 2, 3, 4, 5, 6, 7]\n"
     ]
    }
   ],
   "source": [
    "# Extend\n",
    "my_list.extend([6,7])\n",
    "print(my_list)"
   ]
  },
  {
   "cell_type": "code",
   "execution_count": 29,
   "id": "ded8b77d",
   "metadata": {},
   "outputs": [
    {
     "name": "stdout",
     "output_type": "stream",
     "text": [
      "[1, 2, 3, 4, 5, 6, 7, 8]\n"
     ]
    }
   ],
   "source": [
    "# Append\n",
    "my_list.append(8)\n",
    "print(my_list)"
   ]
  },
  {
   "cell_type": "code",
   "execution_count": 30,
   "id": "11df82da",
   "metadata": {},
   "outputs": [
    {
     "name": "stdout",
     "output_type": "stream",
     "text": [
      "[-1, 2, 3, 4, 5, 6, 7, 8]\n"
     ]
    }
   ],
   "source": [
    "# Change an element\n",
    "my_list[0] = -1\n",
    "print(my_list)"
   ]
  },
  {
   "cell_type": "code",
   "execution_count": 31,
   "id": "38f28e63",
   "metadata": {},
   "outputs": [
    {
     "name": "stdout",
     "output_type": "stream",
     "text": [
      "[-1, 2, 3, 4, 5, 6, 7]\n"
     ]
    }
   ],
   "source": [
    "# Delett an element\n",
    "del(my_list[-1])\n",
    "print(my_list)"
   ]
  },
  {
   "cell_type": "code",
   "execution_count": 32,
   "id": "80c3d693",
   "metadata": {},
   "outputs": [
    {
     "name": "stdout",
     "output_type": "stream",
     "text": [
      "['split', 'this', 'sentence', 'by', 'spaces']\n",
      "['split', 'this', 'sentence', 'by', 'commas']\n"
     ]
    }
   ],
   "source": [
    "# Convert from string to list\n",
    "my_string = \"split this sentence by spaces\"\n",
    "my_list = my_string.split()\n",
    "print(my_list)\n",
    "my_string = \"split,this,sentence,by,commas\"\n",
    "my_list = my_string.split(',')\n",
    "print(my_list)"
   ]
  },
  {
   "cell_type": "markdown",
   "id": "2dd79520",
   "metadata": {},
   "source": [
    "<a id='Module2_2'></a>\n",
    "### Sets"
   ]
  },
  {
   "cell_type": "code",
   "execution_count": 33,
   "id": "369fb2b2",
   "metadata": {},
   "outputs": [
    {
     "name": "stdout",
     "output_type": "stream",
     "text": [
      "{'ska', 'jazz', 'rock', 'soul'}\n"
     ]
    }
   ],
   "source": [
    "# Sets are a type of collection with the following charcteristics:\n",
    "# Sets do not record element position\n",
    "# Sets only have unique elements. If repeated, duplicated items will not be present\n",
    "MusicGenres = {'rock', 'ska', 'jazz', 'soul', 'rock', 'jazz'}\n",
    "print(MusicGenres)"
   ]
  },
  {
   "cell_type": "code",
   "execution_count": 34,
   "id": "4e0ee365",
   "metadata": {},
   "outputs": [
    {
     "name": "stdout",
     "output_type": "stream",
     "text": [
      "{1, 2, 3, 4, 5}\n"
     ]
    }
   ],
   "source": [
    "# Convert List to Set\n",
    "my_list = [1,2,3,4,5,1,2,3]\n",
    "my_set = set(my_list)\n",
    "print(my_set)"
   ]
  },
  {
   "cell_type": "code",
   "execution_count": 35,
   "id": "4311c05a",
   "metadata": {},
   "outputs": [
    {
     "name": "stdout",
     "output_type": "stream",
     "text": [
      "{1, 2, 3, 4, 5, 6, 7}\n"
     ]
    }
   ],
   "source": [
    "# Set has function: add(), remove() or the 'in' command\n",
    "my_set.add(6)\n",
    "my_set.add(7)\n",
    "print(my_set)"
   ]
  },
  {
   "cell_type": "code",
   "execution_count": 36,
   "id": "a1238bc4",
   "metadata": {},
   "outputs": [
    {
     "name": "stdout",
     "output_type": "stream",
     "text": [
      "{1, 2, 3, 4, 5, 7}\n"
     ]
    }
   ],
   "source": [
    "my_set.remove(6)\n",
    "print(my_set)"
   ]
  },
  {
   "cell_type": "code",
   "execution_count": 37,
   "id": "c9f9b69a",
   "metadata": {},
   "outputs": [
    {
     "name": "stdout",
     "output_type": "stream",
     "text": [
      "{11, 3, 5, 7}\n",
      "{1, 2, 3, 5, 7, 9, 11}\n",
      "False\n",
      "True\n"
     ]
    }
   ],
   "source": [
    "# Venn Diagram operations\n",
    "primos = {2,3,5,7,11}\n",
    "nones = {1,3,5,7,9,11}\n",
    "set1 = {1,5,9}\n",
    "\n",
    "# Intersection\n",
    "primos_y_nones = primos & nones\n",
    "print(primos_y_nones)\n",
    "\n",
    "# Union\n",
    "primos_o_nones = primos.union(nones)\n",
    "print(primos_o_nones)\n",
    "\n",
    "# subset\n",
    "primos_s_nones = primos.issubset(nones)\n",
    "print(primos_s_nones)\n",
    "primos_s_set1 = set1.issubset(nones)\n",
    "print(primos_s_set1)"
   ]
  },
  {
   "cell_type": "markdown",
   "id": "eef4f7a9",
   "metadata": {},
   "source": [
    "<a id='Module2_3'></a>\n",
    "### Dictionaries"
   ]
  },
  {
   "cell_type": "code",
   "execution_count": 38,
   "id": "39593750",
   "metadata": {},
   "outputs": [
    {
     "name": "stdout",
     "output_type": "stream",
     "text": [
      "{'key1': 1, 'key2': '2', 'key3': [3, 3, 3], 'key4': (4, 4, 4), 'key5': 5}\n"
     ]
    }
   ],
   "source": [
    "# Dictionaries has keys and values\n",
    "# Keys are likewise index in list, but does not have to be an integer\n",
    "# They are detonated using '{}'\n",
    "# Keys have to be immutable and unique\n",
    "# values can be immutable, mutable and duplicates\n",
    "# Each key and value pair is separated by a comma\n",
    "\n",
    "my_dict = {\"key1\":1, \"key2\":\"2\", \"key3\":[3,3,3], \"key4\":(4,4,4), ('key5'):5}\n",
    "print(my_dict)"
   ]
  },
  {
   "cell_type": "code",
   "execution_count": 39,
   "id": "9e9e4c3c",
   "metadata": {},
   "outputs": [
    {
     "name": "stdout",
     "output_type": "stream",
     "text": [
      "{'2001: A Space Odyssey': 1968, 'The Godfather': 1972, 'Citizen Kane': 1941, 'Raiders of the Lost Ark:': 1981, 'La Dolce Vita': 1960, 'Seven Samurai': 1954}\n",
      "1941\n"
     ]
    }
   ],
   "source": [
    "# Example with movies and release years\n",
    "movie_years = {\"2001: A Space Odyssey\":    1968, \n",
    "               \"The Godfather\":            1972,\n",
    "               \"Citizen Kane\":             1941,\n",
    "               \"Raiders of the Lost Ark:\": 1981,\n",
    "               \"La Dolce Vita\":            1960,\n",
    "               \"Seven Samurai\":            1954}\n",
    "print(movie_years)\n",
    "print(movie_years[\"Citizen Kane\"])"
   ]
  },
  {
   "cell_type": "code",
   "execution_count": 40,
   "id": "bdccb1b6",
   "metadata": {},
   "outputs": [
    {
     "name": "stdout",
     "output_type": "stream",
     "text": [
      "{'2001: A Space Odyssey': 1968, 'The Godfather': 1972, 'Citizen Kane': 1941, 'Raiders of the Lost Ark:': 1981, 'La Dolce Vita': 1960, 'Seven Samurai': 1954, 'Cleopatra': 1965}\n"
     ]
    }
   ],
   "source": [
    "# Add an entry to the dictionary\n",
    "movie_years[\"Cleopatra\"] = 1965\n",
    "print(movie_years)"
   ]
  },
  {
   "cell_type": "code",
   "execution_count": 41,
   "id": "1fb3c6e4",
   "metadata": {},
   "outputs": [
    {
     "name": "stdout",
     "output_type": "stream",
     "text": [
      "{'2001: A Space Odyssey': 1968, 'The Godfather': 1972, 'Citizen Kane': 1941, 'Raiders of the Lost Ark:': 1981, 'Seven Samurai': 1954, 'Cleopatra': 1965}\n"
     ]
    }
   ],
   "source": [
    "# Delete an entrt\n",
    "del(movie_years[\"La Dolce Vita\"])\n",
    "print(movie_years)"
   ]
  },
  {
   "cell_type": "code",
   "execution_count": 42,
   "id": "55eedb3c",
   "metadata": {},
   "outputs": [
    {
     "name": "stdout",
     "output_type": "stream",
     "text": [
      "True\n",
      "False\n"
     ]
    }
   ],
   "source": [
    "# Verify if an element is in the dictionary\n",
    "print(\"Citizen Kane\" in movie_years)\n",
    "print(\"La Dolce Vita\" in movie_years)"
   ]
  },
  {
   "cell_type": "code",
   "execution_count": 43,
   "id": "02592cfc",
   "metadata": {},
   "outputs": [
    {
     "name": "stdout",
     "output_type": "stream",
     "text": [
      "dict_keys(['2001: A Space Odyssey', 'The Godfather', 'Citizen Kane', 'Raiders of the Lost Ark:', 'Seven Samurai', 'Cleopatra'])\n"
     ]
    }
   ],
   "source": [
    "# Get all the keys in the dictionary\n",
    "print(movie_years.keys())"
   ]
  },
  {
   "cell_type": "code",
   "execution_count": 44,
   "id": "f4601582",
   "metadata": {},
   "outputs": [
    {
     "name": "stdout",
     "output_type": "stream",
     "text": [
      "dict_values([1968, 1972, 1941, 1981, 1954, 1965])\n"
     ]
    }
   ],
   "source": [
    "# Get all the values in the dictionary\n",
    "print(movie_years.values())"
   ]
  },
  {
   "cell_type": "markdown",
   "id": "45743f51",
   "metadata": {},
   "source": [
    "<a id='Module3'></a>\n",
    "## Module 3 - Python Programming Fundamentals"
   ]
  },
  {
   "cell_type": "markdown",
   "id": "bf649f04",
   "metadata": {},
   "source": [
    "<a id='Module3_1'></a>\n",
    "### Conditions and Branching"
   ]
  },
  {
   "cell_type": "code",
   "execution_count": 45,
   "id": "25a926b7",
   "metadata": {},
   "outputs": [
    {
     "data": {
      "text/plain": [
       "False"
      ]
     },
     "execution_count": 45,
     "metadata": {},
     "output_type": "execute_result"
    }
   ],
   "source": [
    "# Comparison operations -> Boolean\n",
    "a = 6\n",
    "a == 7"
   ]
  },
  {
   "cell_type": "code",
   "execution_count": 46,
   "id": "1285b46f",
   "metadata": {},
   "outputs": [
    {
     "data": {
      "text/plain": [
       "True"
      ]
     },
     "execution_count": 46,
     "metadata": {},
     "output_type": "execute_result"
    }
   ],
   "source": [
    "a== 6"
   ]
  },
  {
   "cell_type": "code",
   "execution_count": 47,
   "id": "473f5b72",
   "metadata": {},
   "outputs": [
    {
     "data": {
      "text/plain": [
       "True"
      ]
     },
     "execution_count": 47,
     "metadata": {},
     "output_type": "execute_result"
    }
   ],
   "source": [
    "a < 7 # less than"
   ]
  },
  {
   "cell_type": "code",
   "execution_count": 48,
   "id": "67050b4c",
   "metadata": {},
   "outputs": [
    {
     "data": {
      "text/plain": [
       "True"
      ]
     },
     "execution_count": 48,
     "metadata": {},
     "output_type": "execute_result"
    }
   ],
   "source": [
    "a > 5 # greater than"
   ]
  },
  {
   "cell_type": "code",
   "execution_count": 49,
   "id": "508bc895",
   "metadata": {},
   "outputs": [
    {
     "data": {
      "text/plain": [
       "True"
      ]
     },
     "execution_count": 49,
     "metadata": {},
     "output_type": "execute_result"
    }
   ],
   "source": [
    "a <= 6 # less or equal than"
   ]
  },
  {
   "cell_type": "code",
   "execution_count": 50,
   "id": "46c2b32f",
   "metadata": {},
   "outputs": [
    {
     "data": {
      "text/plain": [
       "True"
      ]
     },
     "execution_count": 50,
     "metadata": {},
     "output_type": "execute_result"
    }
   ],
   "source": [
    "a >= 6 # greater or equal than"
   ]
  },
  {
   "cell_type": "code",
   "execution_count": 51,
   "id": "6ce626f0",
   "metadata": {},
   "outputs": [
    {
     "data": {
      "text/plain": [
       "False"
      ]
     },
     "execution_count": 51,
     "metadata": {},
     "output_type": "execute_result"
    }
   ],
   "source": [
    "a != 6 # different to"
   ]
  },
  {
   "cell_type": "code",
   "execution_count": 52,
   "id": "9ce39722",
   "metadata": {},
   "outputs": [
    {
     "data": {
      "text/plain": [
       "False"
      ]
     },
     "execution_count": 52,
     "metadata": {},
     "output_type": "execute_result"
    }
   ],
   "source": [
    "\"AC/DC\" ==  \"Michael Jackson\" # Works in strings"
   ]
  },
  {
   "cell_type": "code",
   "execution_count": 53,
   "id": "1dded347",
   "metadata": {},
   "outputs": [
    {
     "name": "stdout",
     "output_type": "stream",
     "text": [
      "a is not between 0 and 10\n"
     ]
    }
   ],
   "source": [
    "# If statement\n",
    "a = 11\n",
    "\n",
    "if a == 1:\n",
    "    print(\"a is 1\")\n",
    "elif (a > 0) and (a < 10):\n",
    "    print(\"a is between 0 and 10\")\n",
    "else:\n",
    "    print(\"a is not between 0 and 10\")"
   ]
  },
  {
   "cell_type": "code",
   "execution_count": 54,
   "id": "692544bc",
   "metadata": {},
   "outputs": [
    {
     "name": "stdout",
     "output_type": "stream",
     "text": [
      "a is not between 0 and 10 or between 20 and 30\n"
     ]
    }
   ],
   "source": [
    "if a == 15:\n",
    "    print(\"a is 1\")\n",
    "elif ((a > 0) and (a < 10)) or ((a > 20) and (a < 30)):\n",
    "    print(\"a is between 0 and 10 or between 20 and 30\")\n",
    "else:\n",
    "    print(\"a is not between 0 and 10 or between 20 and 30\")"
   ]
  },
  {
   "cell_type": "markdown",
   "id": "ba24a73d",
   "metadata": {},
   "source": [
    "<a id='Module3_2'></a>\n",
    "### Loops"
   ]
  },
  {
   "cell_type": "code",
   "execution_count": 55,
   "id": "47f0a215",
   "metadata": {},
   "outputs": [
    {
     "name": "stdout",
     "output_type": "stream",
     "text": [
      "0\n",
      "1\n",
      "2\n",
      "3\n",
      "4\n",
      "5\n",
      "6\n",
      "7\n",
      "8\n",
      "9\n"
     ]
    }
   ],
   "source": [
    "# For Loops\n",
    "# Syntax range(limit - 1)\n",
    "for i in range(10):\n",
    "    print(i)"
   ]
  },
  {
   "cell_type": "code",
   "execution_count": 56,
   "id": "8d9fd5bf",
   "metadata": {},
   "outputs": [
    {
     "name": "stdout",
     "output_type": "stream",
     "text": [
      "10\n",
      "11\n",
      "12\n",
      "13\n",
      "14\n"
     ]
    }
   ],
   "source": [
    "# Syntax range(start, limit - 1)\n",
    "for i in range(10,15):\n",
    "    print(i)"
   ]
  },
  {
   "cell_type": "code",
   "execution_count": 57,
   "id": "61964cb3",
   "metadata": {},
   "outputs": [
    {
     "name": "stdout",
     "output_type": "stream",
     "text": [
      "10\n",
      "12\n",
      "14\n",
      "16\n",
      "18\n"
     ]
    }
   ],
   "source": [
    "# Syntax range(start, limit - 1, incremet)\n",
    "for i in range(10,20,2):\n",
    "    print(i)"
   ]
  },
  {
   "cell_type": "code",
   "execution_count": 58,
   "id": "0778e47d",
   "metadata": {},
   "outputs": [
    {
     "name": "stdout",
     "output_type": "stream",
     "text": [
      "rojo\n",
      "amarillo\n",
      "verde\n",
      "azul\n",
      "naranja\n"
     ]
    }
   ],
   "source": [
    "color_list = ['rojo', 'amarillo', 'verde', 'azul', 'naranja']\n",
    "for i in range(5):\n",
    "    print(color_list[i])"
   ]
  },
  {
   "cell_type": "code",
   "execution_count": 59,
   "id": "e0ad1ef9",
   "metadata": {},
   "outputs": [
    {
     "name": "stdout",
     "output_type": "stream",
     "text": [
      "rojo\n",
      "amarillo\n",
      "verde\n",
      "azul\n",
      "naranja\n"
     ]
    }
   ],
   "source": [
    "color_list = ['rojo', 'amarillo', 'verde', 'azul', 'naranja']\n",
    "for color in color_list:\n",
    "    print(color)"
   ]
  },
  {
   "cell_type": "code",
   "execution_count": 60,
   "id": "a6ad26f7",
   "metadata": {},
   "outputs": [
    {
     "name": "stdout",
     "output_type": "stream",
     "text": [
      "0\n",
      "rojo\n",
      "1\n",
      "amarillo\n",
      "2\n",
      "verde\n",
      "3\n",
      "azul\n",
      "4\n",
      "naranja\n"
     ]
    }
   ],
   "source": [
    "for i, color in enumerate(color_list):\n",
    "    print(i)\n",
    "    print(color)"
   ]
  },
  {
   "cell_type": "code",
   "execution_count": 61,
   "id": "d0975fde",
   "metadata": {},
   "outputs": [
    {
     "name": "stdout",
     "output_type": "stream",
     "text": [
      "1\n",
      "2\n",
      "3\n",
      "4\n",
      "5\n",
      "6\n",
      "7\n",
      "8\n",
      "9\n"
     ]
    }
   ],
   "source": [
    "# While Loops\n",
    "x = 1\n",
    "while x < 10:\n",
    "    print(x)\n",
    "    x += 1"
   ]
  },
  {
   "cell_type": "code",
   "execution_count": 62,
   "id": "1b75dfab",
   "metadata": {},
   "outputs": [
    {
     "name": "stdout",
     "output_type": "stream",
     "text": [
      "el color no es naranja\n",
      "el color no es naranja\n",
      "el color no es naranja\n",
      "el color no es naranja\n",
      "el color es naranja\n"
     ]
    }
   ],
   "source": [
    "color_list = ['rojo', 'amarillo', 'verde', 'azul', 'naranja']\n",
    "i = 0\n",
    "\n",
    "while color_list[i] != 'naranja':\n",
    "    print(\"el color no es naranja\")\n",
    "    i += 1\n",
    "print(\"el color es naranja\")"
   ]
  },
  {
   "cell_type": "markdown",
   "id": "8cb7a9f5",
   "metadata": {},
   "source": [
    "<a id='Module3_3'></a>\n",
    "### Functions"
   ]
  },
  {
   "cell_type": "code",
   "execution_count": 66,
   "id": "d4f79977",
   "metadata": {},
   "outputs": [
    {
     "name": "stdout",
     "output_type": "stream",
     "text": [
      "7\n"
     ]
    }
   ],
   "source": [
    "# Funciones\n",
    "def suma(a,b):\n",
    "    # función que suma dos números\n",
    "    c = a + b\n",
    "    return c\n",
    "\n",
    "my_sum = suma(2,5)\n",
    "print(my_sum)"
   ]
  },
  {
   "cell_type": "code",
   "execution_count": 74,
   "id": "c274e3f2",
   "metadata": {},
   "outputs": [
    {
     "name": "stdout",
     "output_type": "stream",
     "text": [
      "9\n"
     ]
    }
   ],
   "source": [
    "# Funciones embebidas en Python\n",
    "number_list = [2,3,4,1,5,7,8,6,9]\n",
    "\n",
    "# longitud de una lista\n",
    "number_list_size = len(number_list)\n",
    "print(number_list_size)"
   ]
  },
  {
   "cell_type": "code",
   "execution_count": 72,
   "id": "b570f2d8",
   "metadata": {},
   "outputs": [
    {
     "name": "stdout",
     "output_type": "stream",
     "text": [
      "45\n"
     ]
    }
   ],
   "source": [
    "# suma de una lista\n",
    "number_list_sum = sum(number_list)\n",
    "print(number_list_sum)"
   ]
  },
  {
   "cell_type": "code",
   "execution_count": 75,
   "id": "a5b4ea66",
   "metadata": {},
   "outputs": [
    {
     "name": "stdout",
     "output_type": "stream",
     "text": [
      "[1, 2, 3, 4, 5, 6, 7, 8, 9]\n"
     ]
    }
   ],
   "source": [
    "# Sorted\n",
    "number_list_sorted = sorted(number_list)\n",
    "print(number_list_sorted)"
   ]
  },
  {
   "cell_type": "code",
   "execution_count": 76,
   "id": "629041b4",
   "metadata": {},
   "outputs": [
    {
     "name": "stdout",
     "output_type": "stream",
     "text": [
      "[1, 2, 3, 4, 5, 6, 7, 8, 9]\n"
     ]
    }
   ],
   "source": [
    "# Sort\n",
    "number_list.sort()\n",
    "print(number_list)"
   ]
  },
  {
   "cell_type": "code",
   "execution_count": 77,
   "id": "ec5422f3",
   "metadata": {},
   "outputs": [
    {
     "name": "stdout",
     "output_type": "stream",
     "text": [
      "hellohellohello\n"
     ]
    }
   ],
   "source": [
    "# Multiple entries of different types\n",
    "def printmul(a,b):\n",
    "    c = a*b\n",
    "    return c\n",
    "\n",
    "print(printmul(3,'hello'))"
   ]
  },
  {
   "cell_type": "code",
   "execution_count": 79,
   "id": "912c086a",
   "metadata": {},
   "outputs": [
    {
     "name": "stdout",
     "output_type": "stream",
     "text": [
      "my result is hellohellohello\n",
      "hellohellohello\n"
     ]
    }
   ],
   "source": [
    "# Intermidiate actions\n",
    "def printmul(a,b):\n",
    "    c = a*b\n",
    "    print(\"my result is \" + c)\n",
    "    return c\n",
    "\n",
    "print(printmul(3,'hello'))"
   ]
  },
  {
   "cell_type": "code",
   "execution_count": 80,
   "id": "a970775c",
   "metadata": {},
   "outputs": [
    {
     "name": "stdout",
     "output_type": "stream",
     "text": [
      "AC/DC\n"
     ]
    }
   ],
   "source": [
    "# Global scope\n",
    "def AddDC(y):\n",
    "    x = y + \"/DC\"\n",
    "    print(x)\n",
    "    return(x)\n",
    "\n",
    "x = \"AC\"\n",
    "z = AddDC(x)"
   ]
  },
  {
   "cell_type": "markdown",
   "id": "89b723c2",
   "metadata": {},
   "source": [
    "<a id='Module3_4'></a>\n",
    "### Objects and Classes"
   ]
  },
  {
   "cell_type": "code",
   "execution_count": 25,
   "id": "7ca1d59e",
   "metadata": {},
   "outputs": [
    {
     "name": "stdout",
     "output_type": "stream",
     "text": [
      "red\n",
      "3\n",
      "green\n",
      "5\n",
      "10\n",
      "28.2744\n",
      "12\n",
      "28.2744\n"
     ]
    }
   ],
   "source": [
    "#Objects have:\n",
    "    # A type\n",
    "    # Internal data representation\n",
    "    # Methods\n",
    "\n",
    "# An objet is an instance of a particular type\n",
    "\n",
    "# Methods are functions that aevery instance of an specific class coulf perform\n",
    "    # sort() or reverse() are examples of this\n",
    "    \n",
    "class circle(object):\n",
    "    def __init__(self, radius, color):\n",
    "        self.radius = radius\n",
    "        self.color = color\n",
    "        self.area1 = (self.radius ** 2) * 3.1416\n",
    "        \n",
    "    def area(self):\n",
    "        A = (self.radius ** 2) * 3.1416\n",
    "        return A\n",
    "    \n",
    "class rectangle(object):\n",
    "    def __init__(self, height, width, color):\n",
    "        self.height = height\n",
    "        self.width = width\n",
    "        self.color = color\n",
    "        \n",
    "    def area(self):\n",
    "        A = self.height * self.width\n",
    "        return A\n",
    "\n",
    "circle1 = circle(3,'red')\n",
    "circle2 = circle(5,'green')\n",
    "rectangle1 = rectangle(3,4,'brown')\n",
    "\n",
    "# Read each parameter for individual objets\n",
    "print(circle1.color)\n",
    "print(circle1.radius)\n",
    "print(circle2.color)\n",
    "print(circle2.radius)\n",
    "\n",
    "# Modify an attribute\n",
    "circle2.radius = 10\n",
    "print(circle2.radius)\n",
    "\n",
    "# Run a methos on the object\n",
    "print(circle1.area())\n",
    "print(rectangle1.area())\n",
    "\n",
    "print(circle1.area1)"
   ]
  },
  {
   "cell_type": "code",
   "execution_count": 21,
   "id": "0b4b6ae5",
   "metadata": {},
   "outputs": [
    {
     "data": {
      "text/plain": [
       "['__class__',\n",
       " '__delattr__',\n",
       " '__dict__',\n",
       " '__dir__',\n",
       " '__doc__',\n",
       " '__eq__',\n",
       " '__format__',\n",
       " '__ge__',\n",
       " '__getattribute__',\n",
       " '__gt__',\n",
       " '__hash__',\n",
       " '__init__',\n",
       " '__init_subclass__',\n",
       " '__le__',\n",
       " '__lt__',\n",
       " '__module__',\n",
       " '__ne__',\n",
       " '__new__',\n",
       " '__reduce__',\n",
       " '__reduce_ex__',\n",
       " '__repr__',\n",
       " '__setattr__',\n",
       " '__sizeof__',\n",
       " '__str__',\n",
       " '__subclasshook__',\n",
       " '__weakref__',\n",
       " 'area',\n",
       " 'color',\n",
       " 'radius']"
      ]
     },
     "execution_count": 21,
     "metadata": {},
     "output_type": "execute_result"
    }
   ],
   "source": [
    "dir(circle1)"
   ]
  },
  {
   "cell_type": "code",
   "execution_count": 32,
   "id": "efe438c5",
   "metadata": {},
   "outputs": [
    {
     "name": "stdout",
     "output_type": "stream",
     "text": [
      "<__main__.car object at 0x00000194B13EA340>\n"
     ]
    }
   ],
   "source": [
    "class car(object):\n",
    "    def __init__(self,make, model, color):\n",
    "        self.make = make\n",
    "        self.model = model\n",
    "        self.color = color\n",
    "        \n",
    "car1 = car(\"Honda\",\"Accord\",\"blue\")\n",
    "#car2 = (make=\"Honda\",model=\"Accord\",color=\"blue\")\n",
    "#car3 = (model=\"Accord\",make=\"Honda\",color=\"blue\")\n",
    "\n",
    "print(car1)\n",
    "#print(car2)\n",
    "#print(car3)"
   ]
  },
  {
   "cell_type": "code",
   "execution_count": 33,
   "id": "1ca2b53f",
   "metadata": {},
   "outputs": [
    {
     "name": "stdout",
     "output_type": "stream",
     "text": [
      "11\n",
      "22\n",
      "33\n"
     ]
    }
   ],
   "source": [
    "A = ['1','2','3']\n",
    "\n",
    "for a in A:\n",
    "    print(2*a)"
   ]
  },
  {
   "cell_type": "markdown",
   "id": "7cb88ade",
   "metadata": {},
   "source": [
    "<a id='Module4'></a>\n",
    "## Module 4 - Working with Data in Python"
   ]
  },
  {
   "cell_type": "markdown",
   "id": "4a359033",
   "metadata": {},
   "source": [
    "<a id='Module4_1'></a>\n",
    "### Reading Files with Open"
   ]
  },
  {
   "cell_type": "code",
   "execution_count": null,
   "id": "52ff1cda",
   "metadata": {},
   "outputs": [],
   "source": []
  },
  {
   "cell_type": "markdown",
   "id": "e83e3d4f",
   "metadata": {},
   "source": [
    "<a id='Module4_2'></a>\n",
    "### Writing Files with Open"
   ]
  },
  {
   "cell_type": "code",
   "execution_count": null,
   "id": "bb717c5d",
   "metadata": {},
   "outputs": [],
   "source": []
  },
  {
   "cell_type": "markdown",
   "id": "72e57ba4",
   "metadata": {},
   "source": [
    "<a id='Module4_3'></a>\n",
    "### Loading Data with Pandas"
   ]
  },
  {
   "cell_type": "code",
   "execution_count": null,
   "id": "b2237479",
   "metadata": {},
   "outputs": [],
   "source": []
  },
  {
   "cell_type": "markdown",
   "id": "68128446",
   "metadata": {},
   "source": [
    "<a id='Module4_4'></a>\n",
    "### Working with and Saving Data with Pandas"
   ]
  },
  {
   "cell_type": "code",
   "execution_count": null,
   "id": "194be224",
   "metadata": {},
   "outputs": [],
   "source": []
  },
  {
   "cell_type": "markdown",
   "id": "7864329f",
   "metadata": {},
   "source": [
    "<a id='Module5'></a>\n",
    "## Module 5 - Working with Numpy Arrays & Simple APIs"
   ]
  },
  {
   "cell_type": "markdown",
   "id": "3a85bdf9",
   "metadata": {},
   "source": [
    "<a id='Module5_1'></a>\n",
    "### Numpy 1D Arrays"
   ]
  },
  {
   "cell_type": "code",
   "execution_count": null,
   "id": "5cff8691",
   "metadata": {},
   "outputs": [],
   "source": []
  },
  {
   "cell_type": "markdown",
   "id": "74f6b570",
   "metadata": {},
   "source": [
    "<a id='Module5_2'></a>\n",
    "### Numpy 2D Arrays"
   ]
  },
  {
   "cell_type": "code",
   "execution_count": null,
   "id": "9f1d9811",
   "metadata": {},
   "outputs": [],
   "source": []
  },
  {
   "cell_type": "markdown",
   "id": "0158d440",
   "metadata": {},
   "source": [
    "<a id='Module5_3'></a>\n",
    "### Simple APIs - Part 1"
   ]
  },
  {
   "cell_type": "code",
   "execution_count": null,
   "id": "335c650b",
   "metadata": {},
   "outputs": [],
   "source": []
  },
  {
   "cell_type": "markdown",
   "id": "63e2ce3c",
   "metadata": {},
   "source": [
    "<a id='Module5_4'></a>\n",
    "### Simple APIs - Part 2"
   ]
  },
  {
   "cell_type": "code",
   "execution_count": null,
   "id": "09eb8c1c",
   "metadata": {},
   "outputs": [],
   "source": []
  },
  {
   "cell_type": "markdown",
   "id": "e375fb55",
   "metadata": {},
   "source": [
    "<a id='FinalExam'></a>\n",
    "## Final Exam"
   ]
  },
  {
   "cell_type": "code",
   "execution_count": null,
   "id": "f764102c",
   "metadata": {},
   "outputs": [],
   "source": []
  }
 ],
 "metadata": {
  "kernelspec": {
   "display_name": "Python 3",
   "language": "python",
   "name": "python3"
  },
  "language_info": {
   "codemirror_mode": {
    "name": "ipython",
    "version": 3
   },
   "file_extension": ".py",
   "mimetype": "text/x-python",
   "name": "python",
   "nbconvert_exporter": "python",
   "pygments_lexer": "ipython3",
   "version": "3.8.8"
  }
 },
 "nbformat": 4,
 "nbformat_minor": 5
}
