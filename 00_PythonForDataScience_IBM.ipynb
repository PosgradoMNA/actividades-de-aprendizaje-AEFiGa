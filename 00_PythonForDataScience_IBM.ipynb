{
 "cells": [
  {
   "cell_type": "markdown",
   "id": "8212fabf",
   "metadata": {},
   "source": [
    "# Python for Data Science (IBM)"
   ]
  },
  {
   "cell_type": "markdown",
   "id": "763d3cf0",
   "metadata": {},
   "source": [
    "## Module 1"
   ]
  },
  {
   "cell_type": "markdown",
   "id": "6b9c2ab2",
   "metadata": {},
   "source": [
    "### Your First Program"
   ]
  },
  {
   "cell_type": "code",
   "execution_count": 98,
   "id": "c71feb60",
   "metadata": {},
   "outputs": [
    {
     "name": "stdout",
     "output_type": "stream",
     "text": [
      "Hello Python 101\n"
     ]
    }
   ],
   "source": [
    "# Print 'Hello Python 101'\n",
    "print(\"Hello Python 101\")"
   ]
  },
  {
   "cell_type": "code",
   "execution_count": 99,
   "id": "b123ca54",
   "metadata": {},
   "outputs": [
    {
     "name": "stdout",
     "output_type": "stream",
     "text": [
      "Hello\n",
      "World!\n"
     ]
    }
   ],
   "source": [
    "print(\"Hello\\nWorld!\")\n",
    "# print('Hello World!')"
   ]
  },
  {
   "cell_type": "markdown",
   "id": "9921d451",
   "metadata": {},
   "source": [
    "### Types"
   ]
  },
  {
   "cell_type": "code",
   "execution_count": 100,
   "id": "fd12e14d",
   "metadata": {},
   "outputs": [
    {
     "name": "stdout",
     "output_type": "stream",
     "text": [
      "<class 'int'>\n"
     ]
    }
   ],
   "source": [
    "# int\n",
    "print(type(11))"
   ]
  },
  {
   "cell_type": "code",
   "execution_count": 101,
   "id": "8beda0fe",
   "metadata": {},
   "outputs": [
    {
     "name": "stdout",
     "output_type": "stream",
     "text": [
      "<class 'float'>\n"
     ]
    }
   ],
   "source": [
    "# float\n",
    "print(type(21.213))"
   ]
  },
  {
   "cell_type": "code",
   "execution_count": 102,
   "id": "419a05be",
   "metadata": {},
   "outputs": [
    {
     "name": "stdout",
     "output_type": "stream",
     "text": [
      "<class 'str'>\n"
     ]
    }
   ],
   "source": [
    "# str\n",
    "print(type(\"Hellos Python 101\"))"
   ]
  },
  {
   "cell_type": "code",
   "execution_count": 103,
   "id": "252e87b6",
   "metadata": {},
   "outputs": [
    {
     "data": {
      "text/plain": [
       "True"
      ]
     },
     "execution_count": 103,
     "metadata": {},
     "output_type": "execute_result"
    }
   ],
   "source": [
    "# Enter the code to convert the number 1 to a Boolean.\n",
    "bool(1)"
   ]
  },
  {
   "cell_type": "markdown",
   "id": "cc8b232e",
   "metadata": {},
   "source": [
    "### Expresions and Variables"
   ]
  },
  {
   "cell_type": "code",
   "execution_count": 104,
   "id": "0b635274",
   "metadata": {},
   "outputs": [
    {
     "name": "stdout",
     "output_type": "stream",
     "text": [
      "6\n"
     ]
    }
   ],
   "source": [
    "# Operations: \n",
    "# Addition\n",
    "print(2 + 4)"
   ]
  },
  {
   "cell_type": "code",
   "execution_count": 105,
   "id": "5f4aeb71",
   "metadata": {},
   "outputs": [
    {
     "name": "stdout",
     "output_type": "stream",
     "text": [
      "-1\n"
     ]
    }
   ],
   "source": [
    "# Substraction\n",
    "print(6 - 7)"
   ]
  },
  {
   "cell_type": "code",
   "execution_count": 106,
   "id": "d40e32db",
   "metadata": {},
   "outputs": [
    {
     "name": "stdout",
     "output_type": "stream",
     "text": [
      "18\n"
     ]
    }
   ],
   "source": [
    "# Multiplications\n",
    "print(3 * 6)"
   ]
  },
  {
   "cell_type": "code",
   "execution_count": 107,
   "id": "ba855c07",
   "metadata": {},
   "outputs": [
    {
     "name": "stdout",
     "output_type": "stream",
     "text": [
      "2.3333333333333335\n"
     ]
    }
   ],
   "source": [
    "# Division\n",
    "print(7 / 3)"
   ]
  },
  {
   "cell_type": "code",
   "execution_count": 108,
   "id": "626041e6",
   "metadata": {},
   "outputs": [
    {
     "name": "stdout",
     "output_type": "stream",
     "text": [
      "2\n"
     ]
    }
   ],
   "source": [
    "# Integer division\n",
    "print(7 // 3)"
   ]
  },
  {
   "cell_type": "code",
   "execution_count": 109,
   "id": "cca10628",
   "metadata": {},
   "outputs": [
    {
     "name": "stdout",
     "output_type": "stream",
     "text": [
      "1\n"
     ]
    }
   ],
   "source": [
    "# Module\n",
    "print(7 % 3)"
   ]
  },
  {
   "cell_type": "code",
   "execution_count": 110,
   "id": "14f35af9",
   "metadata": {},
   "outputs": [
    {
     "name": "stdout",
     "output_type": "stream",
     "text": [
      "10\n"
     ]
    }
   ],
   "source": [
    "# Variables\n",
    "my_var = 10\n",
    "print(my_var)"
   ]
  },
  {
   "cell_type": "code",
   "execution_count": 111,
   "id": "89f9a167",
   "metadata": {},
   "outputs": [
    {
     "name": "stdout",
     "output_type": "stream",
     "text": [
      "10\n",
      "3\n",
      "1\n"
     ]
    }
   ],
   "source": [
    "x = 10\n",
    "print(x)\n",
    "y = x // 3\n",
    "print(y)\n",
    "x = x % 3\n",
    "print(x)"
   ]
  },
  {
   "cell_type": "markdown",
   "id": "7638d233",
   "metadata": {},
   "source": [
    "### String Operations"
   ]
  },
  {
   "cell_type": "code",
   "execution_count": 112,
   "id": "4f0db636",
   "metadata": {},
   "outputs": [
    {
     "name": "stdout",
     "output_type": "stream",
     "text": [
      "Hello Python 101\n",
      "Hello Python 101\n"
     ]
    }
   ],
   "source": [
    "# Definition\n",
    "my_string = \"Hello Python 101\"\n",
    "print(my_string)\n",
    "my_string = 'Hello Python 101'\n",
    "print(my_string)"
   ]
  },
  {
   "cell_type": "code",
   "execution_count": 113,
   "id": "5c5d25b9",
   "metadata": {},
   "outputs": [
    {
     "name": "stdout",
     "output_type": "stream",
     "text": [
      "!#$%&/()=?¡\"'\n"
     ]
    }
   ],
   "source": [
    "# Special characters (Use \\ as scape sequences)\n",
    "my_string = \"!#$%&/()=?¡\\\"\\'\"\n",
    "print(my_string)"
   ]
  },
  {
   "cell_type": "code",
   "execution_count": 114,
   "id": "c7a04950",
   "metadata": {},
   "outputs": [
    {
     "name": "stdout",
     "output_type": "stream",
     "text": [
      "M\n",
      "g\n",
      "M\n",
      "g\n"
     ]
    }
   ],
   "source": [
    "# Use of index\n",
    "my_string = \"MyString\"\n",
    "# Positive\n",
    "print(my_string[0])\n",
    "print(my_string[7])\n",
    "# Negative\n",
    "print(my_string[-8])\n",
    "print(my_string[-1])"
   ]
  },
  {
   "cell_type": "code",
   "execution_count": 115,
   "id": "7e0291d1",
   "metadata": {},
   "outputs": [
    {
     "name": "stdout",
     "output_type": "stream",
     "text": [
      "My String\n"
     ]
    }
   ],
   "source": [
    "# Concatenate\n",
    "my_string_1 = \"My \"\n",
    "my_string_2 = \"String\"\n",
    "print(my_string_1 + my_string_2)"
   ]
  },
  {
   "cell_type": "code",
   "execution_count": 116,
   "id": "b75d81fe",
   "metadata": {},
   "outputs": [
    {
     "name": "stdout",
     "output_type": "stream",
     "text": [
      "Michael\n",
      "Jackson\n",
      "Michael Jackson\n",
      "Michael\tJackson\n",
      "Michael\t\tJackson\n"
     ]
    }
   ],
   "source": [
    "# Scape sequences\n",
    "# Jump line\n",
    "my_string = \"Michael\\nJackson\"\n",
    "print(my_string)\n",
    "# Tab\n",
    "my_string = \"Michael Jackson\"\n",
    "print(my_string)\n",
    "my_string = \"Michael\\tJackson\"\n",
    "print(my_string)\n",
    "my_string = \"Michael\\t\\tJackson\"\n",
    "print(my_string)"
   ]
  },
  {
   "cell_type": "code",
   "execution_count": 117,
   "id": "726f0b45",
   "metadata": {},
   "outputs": [
    {
     "name": "stdout",
     "output_type": "stream",
     "text": [
      "Michael Jackson is the best\n",
      "Janet Jackson is the best\n"
     ]
    }
   ],
   "source": [
    "# Methods\n",
    "# Replace\n",
    "A = \"Michael Jackson is the best\"\n",
    "B = A.replace('Michael','Janet')\n",
    "print(A)\n",
    "print(B)"
   ]
  },
  {
   "cell_type": "code",
   "execution_count": 118,
   "id": "20d0ab21",
   "metadata": {},
   "outputs": [
    {
     "name": "stdout",
     "output_type": "stream",
     "text": [
      "5\n"
     ]
    }
   ],
   "source": [
    "# Find\n",
    "A = \"Michael Jackson is the best\"\n",
    "print(A.find('el'))"
   ]
  },
  {
   "cell_type": "code",
   "execution_count": 119,
   "id": "9a76f648",
   "metadata": {},
   "outputs": [
    {
     "name": "stdout",
     "output_type": "stream",
     "text": [
      "0246\n"
     ]
    }
   ],
   "source": [
    "Numbers = \"0123456\"\n",
    "print(Numbers[::2])"
   ]
  },
  {
   "cell_type": "markdown",
   "id": "90356c3d",
   "metadata": {},
   "source": [
    "## Module 2"
   ]
  },
  {
   "cell_type": "markdown",
   "id": "a52f3d74",
   "metadata": {},
   "source": [
    "### Lists and Tuples"
   ]
  },
  {
   "cell_type": "code",
   "execution_count": 120,
   "id": "cdb34d5a",
   "metadata": {},
   "outputs": [
    {
     "name": "stdout",
     "output_type": "stream",
     "text": [
      "<class 'tuple'>\n"
     ]
    }
   ],
   "source": [
    "# Tuples - UnMutable\n",
    "# Ordered sequence\n",
    "Ratings = (10,9,6,5,19,8,9,6,2)\n",
    "print(type(Ratings))"
   ]
  },
  {
   "cell_type": "code",
   "execution_count": 121,
   "id": "4491aa5e",
   "metadata": {},
   "outputs": [
    {
     "name": "stdout",
     "output_type": "stream",
     "text": [
      "9\n"
     ]
    }
   ],
   "source": [
    "# length\n",
    "print(len(Ratings))"
   ]
  },
  {
   "cell_type": "code",
   "execution_count": 122,
   "id": "5576509d",
   "metadata": {},
   "outputs": [
    {
     "name": "stdout",
     "output_type": "stream",
     "text": [
      "(1, (3, 5), 'another', 4)\n",
      "1\n",
      "(3, 5)\n",
      "3\n",
      "5\n"
     ]
    }
   ],
   "source": [
    "# Nesting\n",
    "my_tuple = (1,(3,5), \"another\", 4)\n",
    "print(my_tuple)\n",
    "print(my_tuple[0])\n",
    "print(my_tuple[1])\n",
    "print(my_tuple[1][0])\n",
    "print(my_tuple[1][1])"
   ]
  },
  {
   "cell_type": "code",
   "execution_count": 123,
   "id": "3ae6c13d",
   "metadata": {},
   "outputs": [
    {
     "name": "stdout",
     "output_type": "stream",
     "text": [
      "<class 'list'>\n",
      "[1, (3, 5), 'another', 4]\n",
      "1\n",
      "(3, 5)\n",
      "3\n",
      "5\n"
     ]
    }
   ],
   "source": [
    "# Lists - Mutable\n",
    "my_list = [1,(3,5), \"another\", 4]\n",
    "print(type(my_list))\n",
    "print(my_list)\n",
    "print(my_list[0])\n",
    "print(my_list[1])\n",
    "print(my_list[1][0])\n",
    "print(my_list[1][1])"
   ]
  },
  {
   "cell_type": "code",
   "execution_count": 124,
   "id": "749c7010",
   "metadata": {},
   "outputs": [
    {
     "name": "stdout",
     "output_type": "stream",
     "text": [
      "[1, 2, 3, 4, 5]\n"
     ]
    }
   ],
   "source": [
    "# Methods\n",
    "my_list = [1,2,3,4,5]\n",
    "print(my_list)"
   ]
  },
  {
   "cell_type": "code",
   "execution_count": 125,
   "id": "338f773b",
   "metadata": {},
   "outputs": [
    {
     "name": "stdout",
     "output_type": "stream",
     "text": [
      "[1, 2, 3, 4, 5, 6, 7]\n"
     ]
    }
   ],
   "source": [
    "# Extend\n",
    "my_list.extend([6,7])\n",
    "print(my_list)"
   ]
  },
  {
   "cell_type": "code",
   "execution_count": 126,
   "id": "ded8b77d",
   "metadata": {},
   "outputs": [
    {
     "name": "stdout",
     "output_type": "stream",
     "text": [
      "[1, 2, 3, 4, 5, 6, 7, 8]\n"
     ]
    }
   ],
   "source": [
    "# Append\n",
    "my_list.append(8)\n",
    "print(my_list)"
   ]
  },
  {
   "cell_type": "code",
   "execution_count": 127,
   "id": "11df82da",
   "metadata": {},
   "outputs": [
    {
     "name": "stdout",
     "output_type": "stream",
     "text": [
      "[-1, 2, 3, 4, 5, 6, 7, 8]\n"
     ]
    }
   ],
   "source": [
    "# Change an element\n",
    "my_list[0] = -1\n",
    "print(my_list)"
   ]
  },
  {
   "cell_type": "code",
   "execution_count": 128,
   "id": "38f28e63",
   "metadata": {},
   "outputs": [
    {
     "name": "stdout",
     "output_type": "stream",
     "text": [
      "[-1, 2, 3, 4, 5, 6, 7]\n"
     ]
    }
   ],
   "source": [
    "# Delett an element\n",
    "del(my_list[-1])\n",
    "print(my_list)"
   ]
  },
  {
   "cell_type": "code",
   "execution_count": 130,
   "id": "80c3d693",
   "metadata": {},
   "outputs": [
    {
     "name": "stdout",
     "output_type": "stream",
     "text": [
      "['split', 'this', 'sentence', 'by', 'spaces']\n",
      "['split', 'this', 'sentence', 'by', 'commas']\n"
     ]
    }
   ],
   "source": [
    "# Convert from string to list\n",
    "my_string = \"split this sentence by spaces\"\n",
    "my_list = my_string.split()\n",
    "print(my_list)\n",
    "my_string = \"split,this,sentence,by,commas\"\n",
    "my_list = my_string.split(',')\n",
    "print(my_list)"
   ]
  }
 ],
 "metadata": {
  "kernelspec": {
   "display_name": "Python 3",
   "language": "python",
   "name": "python3"
  },
  "language_info": {
   "codemirror_mode": {
    "name": "ipython",
    "version": 3
   },
   "file_extension": ".py",
   "mimetype": "text/x-python",
   "name": "python",
   "nbconvert_exporter": "python",
   "pygments_lexer": "ipython3",
   "version": "3.8.8"
  }
 },
 "nbformat": 4,
 "nbformat_minor": 5
}
