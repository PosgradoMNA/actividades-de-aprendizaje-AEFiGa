{
 "cells": [
  {
   "cell_type": "markdown",
   "metadata": {
    "id": "4frz9E5xjjSm"
   },
   "source": [
    "![portada_tec_monterey.png](data:image/png;base64,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)"
   ]
  },
  {
   "cell_type": "markdown",
   "metadata": {
    "id": "3PlGMz4OjjSn"
   },
   "source": [
    "# <center>Semana 3 - Actividad 1</center>\n",
    "## Ciencia y Analítica de datos\n",
    "## _Maestría en Inteligencia Artificial Aplicada (MNA-V)_\n",
    "### Equipo 24 \n",
    "#### _Victor Hugo Avila Felipe - A01794425_\n",
    "#### _Andrés Eduardo Figueroa García - A01378536_"
   ]
  },
  {
   "cell_type": "markdown",
   "metadata": {},
   "source": [
    "### Glosario\n",
    "#### [0.- Instrucciones](#Instrucciones)\n",
    "#### [1.- Parte 1](#Parte1)\n",
    "#### [2.- Parte 2](#Parte2)\n",
    "#### [3.- Parte 3](#Parte3)\n",
    "#### [Referencias](#Ref)"
   ]
  },
  {
   "cell_type": "markdown",
   "metadata": {
    "id": "nX213e_ejjSp"
   },
   "source": [
    "<a id='Instrucciones'></a>\n",
    "### 0.- Instrucciones\n",
    "#### Parte 1: Fundamentos de bases de datos\n",
    "Revisa la página Lecturas del tema 3: Conceptos de almacenamiento y recuperación de información, y describe tus insights o entendimiento de cada uno de los subtemas: (Alrededor de 200 palabras)\n",
    "\n",
    " 1. Fundamentos de bases de datos y para ciencia de datos.  \n",
    " 2. Fundamentos de almacenes de datos (Data Warehouse) para ciencia de datos.\n",
    "\n",
    "\n",
    "\n",
    "#### Parte 2: Selección y limpieza de los Datos en Python\n",
    "\n",
    "Para este actividad usa el base de datos encontrados por [aquí](https://raw.githubusercontent.com/PosgradoMNA/Actividades_Aprendizaje-/main/default%20of%20credit%20card%20clients.csv):  su descripción [aquí](https://raw.githubusercontent.com/PosgradoMNA/Actividades_Aprendizaje-/main/dataset_info.txt). \n",
    "\n",
    " 1. Revisa detenidamente la página [Ejercicio guiado para: Selección y limpieza de los Datos en Python](https://github.com/PosgradoMNA/Actividades_Aprendizaje-/blob/main/limpieza.ipynb).\n",
    " 2. En Google Colab ( = Jupyter notebook, o bien alguna otra IDE de su interés), escribe tu código para realizar la selección y limpieza de los datos como se indica en el ejercicio.\n",
    " 3. Ejecuta tu código.\n",
    " 4. Explica con tus palabras (documentas las lineas del codigo en celdas del Text) como funciona tu programa indicando lo que realizaste en la programación, en minimum palabras. \n",
    " \n",
    "\n",
    "#### Parte 3: Preparación de los datos\n",
    "\n",
    "Con base en los resultados de tu libreta de Google Colab de la Parte 2 responde detalladamente las siguientes preguntas: \n",
    "\n",
    " 1. ¿Qué datos considero mas importantes? ¿Por qué?\n",
    " 2. ¿Se eliminaron o reemplazaron datos nulos? ¿Qué se hizo y por qué?\n",
    " 3. ¿Es necesario ordenar los datos para el análisis? Sí / No / ¿Por qué?\n",
    " 4. ¿Existen problemas de formato que deban solucionar antes del proceso de modelado? Sí / No / Por qué.\n",
    " 5. ¿Qué ajustes se realizaron en el proceso de limpieza de datos (agregar, integrar, eliminar, modificar registros (filas), cambiar atributos (columnas)?\n",
    "**Extensión**: 400 palabras o más entre todas las respuestas. "
   ]
  },
  {
   "cell_type": "markdown",
   "metadata": {},
   "source": [
    "<a id='Parte1'></a>\n",
    "### 1.- Parte 1"
   ]
  },
  {
   "cell_type": "markdown",
   "metadata": {},
   "source": [
    "$\\;\\;\\;\\;\\;$**1.- Fundamentos de bases de datos y para ciencia de datos.**"
   ]
  },
  {
   "cell_type": "markdown",
   "metadata": {},
   "source": [
    "**Hands-On Data Science**\n",
    "\n",
    "El almacen de datos (Data Warehousing) se refiere a un conjunto de bases de dtaos gigantesca que proviene de diferentes fuentes y se unifica para su consulta.\n",
    "\n",
    "Parte de las tareas del almacén de datos es que coloca los datos en una especie de esquema en el que permite su análisis simultáeno y permite obtener insights a través de análsis de los datos.\n",
    "\n",
    "Los retos que se pueden enoncontrar dentro de el almacén de datos están: la normalización , transformación, escalamiento.\n",
    "\n",
    "ETL vs ELT\n",
    "ETL: Extract, Transform, Load\n",
    "ELT: Extract, Load, Transform\n",
    "\n",
    "ELT tiene en cuenta que los repositorios de datos cuentan con herramientas hacer la carga de datos previo a la transformación."
   ]
  },
  {
   "cell_type": "markdown",
   "metadata": {},
   "source": [
    "**SQL for Data Scientists**\n",
    "\n",
    "Los datos pueden venir en múltiples presentaciones y de distintas fuentes, por lo que al correr un modelo y no obtener los resultados esperados, se puede en ocasiones encontrar el origen del error en la forma en que se recolectaron los datos que se utilizan. \n",
    "\n",
    "Los datos pueden ser almacenados de distintas formas y estructuras (estructurados y no estrucurados).\n",
    "\n",
    "Excel es un ejemplo común de guardar los datos de manera estructurada, que crea hojas de cálcula que se pueden conectar entre sí, aunque para poder crear tablas relaciones, Microsoft cuenta con Access.\n",
    "\n",
    "La lógica detras del uso y diseño de bases de datos relaciones es la misma, aunque puede cambiar la sintaxis.\n",
    "\n",
    "La Sistemas de Manejo de Bases de Datos Relacionales (RDNMS, por sus siglas en inglés) más populares incluyen:\n",
    " - Oracle\n",
    " - MySQL\n",
    " - MS SQL Server\n",
    " - PostgreSQL\n",
    " - Amazon Redshift\n",
    " - IBM DB2\n",
    " - MS Access\n",
    " - SQLite\n",
    " - Snowflake\n",
    " \n",
    "La primer parte importante para poder trabajar con bases de datos son las herramientas para conectarse y editar las bases de datos (SQL generalmente). Para esto se puede hacer desde un Entorno de Desarrollo Integrado (IDE, por sus siglas en inglés) o desde una Intefaz Gráfica de Usuario (GUI, por sus siglas en inglés). El fin de esto es poder correr 'queiries' para extraer datos y almacenarlos en una estructura conveniente para el análisis a realizar.\n",
    "\n",
    "Una Tabla de una Base de Datos se puede considerar como un conjunto de valores ordenados en tablas, la cual cuenta con encabezados en las columnas e identificadores en las filas. Cada tabal puede contener diferentes tipos de datos a un distinto nivel de detalle.\n",
    "\n",
    "Existen algunos términos que suelen ser usados de manera indiferente:\n",
    " - Entity, objeto, concepto\n",
    " - Record, fila\n",
    " - Campo, atributo, columna\n",
    " \n",
    "Luego entonces, una Base de Datos es una colección de tablas relaciones, mientras que el 'schema' es la descipción de la base de datos y otros objetos, así como la relación entre ellos.\n",
    "\n",
    "Las relaciones entre las distintas tablas pueden ser:\n",
    " - One-to-many\n",
    " - Many-to-many\n",
    " - One-to-one\n",
    " \n",
    "La representación gráfica de estas relaciones se le conoce como Diagrama de Relación de Entidad (ERD, por sus siglas en inglés).\n",
    "\n",
    "En una tabla se tiene una columna o ocmbinación de columnas qeu identifican a cada fila. Esta se le conoce como Primary Key, las cuales no pueden ser vacías (NULL). Ejemplo de esto puede ser el número de identifiación de un empleado o el número serial de una computadora. En aplicaciones del día a día es una práctica comun tener un valor que se aumente de una fila ingresada otra (como un contador).\n",
    "\n",
    "Los almacenes de datos pueden ser utilizados para guardar datos de distintos tipos y fuentes. Entre ellos se pueden encontrar datos históricos, en tiempo real o un estado previo que se guarda como resultado de un análisis.\n",
    "\n",
    "Una forma pupular de modelas los almacenes de datos es con un 'Esquema Estrella', donde se tiene hechos (facts) y dimensiones (dimensions), siendo la primera de estas los datos específicos de la entidad, mientras que la segunda propiedades que se pueden agrupar respecto a un elemento en particular dentro de la entidad misma.\n",
    "\n",
    "Conocer el origen de tus datos. Proponen unas preguntas claves que pueden ser de ayuda cuando se empieza a conocer un almacén de datos. Las preguntas incluyen de forma general información acerca de:\n",
    " - Tabla con datos relevantes\n",
    " - Los identificadores principales que tiene cada tabla\n",
    " - Si los datos en las tablas recibieron algua especie de tratamiento\n",
    " - Es una tabla que se actualiza o es estática\n",
    " - Los datos se colectan de forma automática"
   ]
  },
  {
   "cell_type": "markdown",
   "metadata": {},
   "source": [
    "**AWS**\n",
    "\n",
    "Una forma de estructurar un almacén de datos sería separando entre accesos a aplicaciones, a mecanismos de análisis y los servidores de la base de datos.\n",
    "\n",
    "Además, se puede distinguir entre datos qeu se accesan de forma recurrente y otros que no. Donde los de forma recurrente conviene que tengan más velocidad (SSD) y los menos recurrentes la velocidad no es crítica (HDD).\n",
    "\n",
    "Los propósitos de un almacén de datos es asegurar la calidad, cosistencia y presición de los datos, al mismo tiempo que se consolida información de distintas fuentes."
   ]
  },
  {
   "cell_type": "markdown",
   "metadata": {},
   "source": [
    "**Oracle**\n",
    "\n",
    "Un almacén de datos contiene generalmente una base de datos relaciona, ELT, análisis estadístico, reportes y herramientas de visualización y presentarla a usuarios finales.\n",
    "\n",
    "El Data Warehouse contempla el análsisi de los datos, mientras que el Data Lake se concentra en sólo el almacenamiento de los datos.\n",
    "$\\;$\n",
    "$\\;$"
   ]
  },
  {
   "cell_type": "markdown",
   "metadata": {},
   "source": [
    "**TDS**\n",
    "\n",
    "La ciencia de datos se encarga de todo: juntas datos, limpiarlos, analizarlos y visualizarlos.\n",
    "\n",
    "Las Bases de Datos facilitan el manejo de la información para distintos propósitos. Se cuentan con dos tipos de Bases de Datos:\n",
    "Relational y No Relational\n",
    "\n",
    "Relational: Se guarda en tablas que pueden estar relacionadas entre ellas por un parámetro.\n",
    "No Relational: Se guarda en tables que se relacionan entre ellas por categorías.\n",
    "\n",
    "CAP: Consistency, Availability, Partition tolerance."
   ]
  },
  {
   "cell_type": "markdown",
   "metadata": {},
   "source": [
    "$\\;\\;\\;\\;\\;$**2.- Fundamentos de almacenes de datos (Data Warehouse) para ciencia de datos.**"
   ]
  },
  {
   "cell_type": "markdown",
   "metadata": {},
   "source": [
    "**Canvas**\n",
    "\n",
    "Las Bases de Datos incompletas deben de ser transformadas para que posteriormente los modelos puedan procesarlas. Esto puede ser que estén incompletos, que nos valores no representen atributos, que no sean consistentes o que tenga ruido por valores atípicos, entre otros.\n",
    "\n",
    "El preprocesamiento de datos incluye:\n",
    " - Limpieza de datos\n",
    " - Transformación de datos\n",
    " - Reducción de datos\n",
    " \n",
    "Se podría definir como el proceso de identificar y corregir las entradas erroneas de un conjunto de datos.\n",
    "\n",
    "Se requiere manejar datos faltantes porque estos pueden llevar a que un algoritmo no funcione, o bien, que arroje resultados no válidos.\n",
    "\n",
    "Existen tres tipos de datos faltantes:\n",
    " - **Faltantes Completamente Aleatorios (*MCAR*, Missing Completely at Random)**: No se relaciona coon el valor que se supone que se obtienen, ni con las respuestas observadas. Cuentan como MCAR si se pierden en el tránsito o son insatisfactorias.\n",
    " - **Faltantes Aleatorios (*MAR*, Missing at Random)**: Depende del conjunto de respuestas observadas, pero no está relacionada con los valores faltantes que se supone se obtienen.\n",
    " - **Faltantes No Aleatorios (*MNAR*, Missing Not at Random)**: Los datos faltantes no son MCAR ni MAR.\n",
    " \n",
    "Para manejar los datos faltantes, se tienen las siguientes técnicas:\n",
    " - **Eliminación por lista**: Consiste en eliminar todas las instancias que tengan datos faltantes. Esto es una aproximación recomendable si se cuenta con una muestra lo suficientemente grande.\n",
    " - **Eliminación por parejas**: Consiste en eliminar una instancia sólo si esta es parte de el análisis a realizar. Se utlizan los datos existentes para las pruebas estadísticas.\n",
    " - **Sustitución media**: Los datos faltantes se reemplazan por el valor medio de esa variable. Recomendable en una distribución normal.\n",
    " - **Sustitución de la mediana**: Los datos faltantes se reeemplazan por la mediana de la misma variable. Recomendable si los datos faltantes son estrictamente aleatorios.\n",
    " - **Imputación de Regresión**: Reemplza el dato faltante con un valor probable estimado usando la información disponible. Esta aproximación no agrega información novedosa y altera ciertos valores estadísticos como  el error estándar. Crece el tamaño de la muesta.\n",
    " - **Imputación Múltiple**: Se predicen valores con base en los datos que sí se tienen y se crea un conjunto de datos con estas propuestas. Incorpora incertidumbre a los valores pronosticados y puede reemplazar los valores faltantes con los imputados.\n",
    "\n",
    "El ruido es un error aleatorio o variación en una variable medible. En otras palabras, se trata de un valor atípico fuera del patrón general de la distribución. Las técinas para suavisar el ruido incluyen:\n",
    " - **Agrupación**: Suavizan un valor de datos consultando los vlores que lo rodean. Esto distribuye los valores ordenados en contenedores. También se pueden corregir datos incosistentes utlizando conocimiento de expertos.\n",
    " - **Diagrama de caja y bigotes**: este diagrama muestra la distribución de los datos basada en: Mínimo, primer cuartil, mediana, tercer cuartil y máximo."
   ]
  },
  {
   "cell_type": "markdown",
   "metadata": {},
   "source": [
    "**Missing Data: Two Big Problems with Mean Imputation**\n",
    "\n",
    "La Sustitución Media presenta algunos problemas como:\n",
    " - No preserva la relación entre variables. Esto es importante cuando se quieren obtener correlaciones o alguna otra medida estadística más allá de la media.\n",
    " - Dismimuye el impcato de otras estadísticas como el error estándar, ya que este se vuelve más pequeño."
   ]
  },
  {
   "cell_type": "markdown",
   "metadata": {},
   "source": [
    "**Seven Ways to Make up Data: Common Methods to Imputing Missing Data**\n",
    "\n",
    " 1. **Substitution**: Reemplazar la instancia por una que no estaba en tus datos originales.\n",
    " 2. **Hot deck imputation**: Reemplazar el valor faltante de la instancia por uno escogido de manera aleatoria por de otra instancia con caractarísitcas conocidas similares.\n",
    " 3. **Cold deck imputation**: Reemplazar el valor faltante de la instancia por otra instancia con caractarísitcas conocidas similares. Similar a Hot deck imputation, pero sin que sea aleatorio.\n",
    " 4. **Regression imputation**: Reemplazar el valor faltante por uno estimado con regresiones de las demás variables presentes en otras instancias.\n",
    " 5. **Scholastic regression imputation**: Reemplazar el valor faltante por una regresión adicionando un valor residual.\n",
    " 6. **Imputación simple**: Se propone solo una estimación del valor faltante. Resulta en parámetos viciados como media, correlación, regresiones de coeficientes y errores estándar.\n",
    " 7. **Imputación múltiple**: Se proponen múltipes valores que pueden llevar a estimación de parámetros no viciada y errores estándar precisos."
   ]
  },
  {
   "cell_type": "markdown",
   "metadata": {},
   "source": [
    "<a id='Parte2'></a>\n",
    "### 2.- Parte 2"
   ]
  },
  {
   "cell_type": "markdown",
   "metadata": {},
   "source": []
  },
  {
   "cell_type": "markdown",
   "metadata": {},
   "source": [
    "<a id='Parte3'></a>\n",
    "### 3.- Parte 3"
   ]
  },
  {
   "cell_type": "markdown",
   "metadata": {},
   "source": [
    "$\\;\\;\\;\\;\\;$**1.- ¿Qué datos considero mas importantes? ¿Por qué?**"
   ]
  },
  {
   "cell_type": "markdown",
   "metadata": {},
   "source": []
  },
  {
   "cell_type": "markdown",
   "metadata": {},
   "source": [
    "$\\;\\;\\;\\;\\;$**2.- ¿Se eliminaron o reemplazaron datos nulos? ¿Qué se hizo y por qué?**"
   ]
  },
  {
   "cell_type": "markdown",
   "metadata": {},
   "source": []
  },
  {
   "cell_type": "markdown",
   "metadata": {},
   "source": [
    "$\\;\\;\\;\\;\\;$**3.- ¿Es necesario ordenar los datos para el análisis? Sí / No / ¿Por qué?**"
   ]
  },
  {
   "cell_type": "markdown",
   "metadata": {},
   "source": []
  },
  {
   "cell_type": "markdown",
   "metadata": {},
   "source": [
    "$\\;\\;\\;\\;\\;$**4.- ¿Existen problemas de formato que deban solucionar antes del proceso de modelado? Sí / No / Por qué.**"
   ]
  },
  {
   "cell_type": "markdown",
   "metadata": {},
   "source": []
  },
  {
   "cell_type": "markdown",
   "metadata": {},
   "source": [
    "$\\;\\;\\;\\;\\;$**5.- ¿Qué ajustes se realizaron en el proceso de limpieza de datos (agregar, integrar, eliminar, modificar registros (filas), cambiar atributos (columnas)?**"
   ]
  },
  {
   "cell_type": "markdown",
   "metadata": {},
   "source": []
  },
  {
   "cell_type": "markdown",
   "metadata": {},
   "source": [
    "<a id='Ref'></a>\n",
    "### Referencias"
   ]
  },
  {
   "cell_type": "markdown",
   "metadata": {},
   "source": [
    "Amazon Web Services, Inc. (n.d.). *Data Warehouse Concepts*. Consultado el 02 de Octubre de 2022, de Amazon Web Services, Inc.: https://aws.amazon.com/data-warehouse/\n",
    "\n",
    "Grase-Martin, K. (n.d.). *Missing Data: Two Big Problems with Mean Imputation*. Consultado el 02 de Octubre de 2022, de The Analysis Factor: https://www.theanalysisfactor.com/mean-imputation/\n",
    "\n",
    "Grase-Martin, K. (n.d.). *Seven Ways to Make up Data: Common Methods to Imputing Missing Data*. Consultado el 02 de Octubre de 2022, de The Analysis Factor: https://www.theanalysisfactor.com/seven-ways-to-make-up-data-common-methods-to-imputing-missing-data/\n",
    "\n",
    "Kane, F. (2017). *Hands-on Data Science and Python Machine Learning*. Packt. https://newoutlook.it/download/python/hands-on-data-science.pdf\n",
    "\n",
    "Metwalli, S. (2020). *Databases 101: Introduction to Databases for Data Scientists*. Consultado el 02 de Octubre de 2022, de Towards Data Science: https://towardsdatascience.com/databases-101-introduction-to-databases-for-data-scientists-ee18c9f0785d\n",
    "\n",
    "Oracle. (n.d.). *What Is a Data Warehouse?* Consultado el 02 de Octubre de 2022, de Oracle Cloud: https://www.oracle.com/database/what-is-a-data-warehouse/\n",
    "\n",
    "Teate, R. (2021). *SQl for Data Scientists*. Wiley. https://learning.oreilly.com/library/view/sql-for-data/9781119669364/"
   ]
  }
 ],
 "metadata": {
  "colab": {
   "provenance": []
  },
  "kernelspec": {
   "display_name": "Python 3 (ipykernel)",
   "language": "python",
   "name": "python3"
  },
  "language_info": {
   "codemirror_mode": {
    "name": "ipython",
    "version": 3
   },
   "file_extension": ".py",
   "mimetype": "text/x-python",
   "name": "python",
   "nbconvert_exporter": "python",
   "pygments_lexer": "ipython3",
   "version": "3.9.7"
  }
 },
 "nbformat": 4,
 "nbformat_minor": 1
}
